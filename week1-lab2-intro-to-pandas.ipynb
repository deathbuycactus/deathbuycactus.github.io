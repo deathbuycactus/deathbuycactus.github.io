{
  "cells": [
    {
      "cell_type": "markdown",
      "metadata": {
        "id": "8elAGDEfVp93"
      },
      "source": [
        "### Exercise 1.1\n",
        "\n",
        "##### Create a DataFrame by reading in the `2019_Yellow_Taxi_Trip_Data.csv` file. Examine the first 5 rows."
      ]
    },
    {
      "cell_type": "code",
      "execution_count": 1,
      "metadata": {
        "id": "E_yzw82vVp94"
      },
      "outputs": [],
      "source": [
        "import pandas as pd\n",
        "trips = pd.read_csv(\"./2019_Yellow_Taxi_Trip_Data.csv\")"
      ]
    },
    {
      "cell_type": "markdown",
      "metadata": {
        "id": "Zaxa7M1iVp94"
      },
      "source": [
        "### Exercise 1.2\n",
        "\n",
        "##### Find the dimensions (number of rows and number of columns) in the data."
      ]
    },
    {
      "cell_type": "code",
      "execution_count": 3,
      "metadata": {
        "colab": {
          "base_uri": "https://localhost:8080/"
        },
        "id": "AjYZ8Kn8Vp94",
        "outputId": "784fb5dd-ead2-43cf-bbb2-5e4d2856e86e"
      },
      "outputs": [
        {
          "output_type": "execute_result",
          "data": {
            "text/plain": [
              "(10000, 18)"
            ]
          },
          "metadata": {},
          "execution_count": 3
        }
      ],
      "source": [
        "trips.shape"
      ]
    },
    {
      "cell_type": "markdown",
      "metadata": {
        "id": "WLCPnVkNVp94"
      },
      "source": [
        "#### Exercise 1.3\n",
        "##### Using the data in the `2019_Yellow_Taxi_Trip_Data.csv` file, calculate summary statistics for the `fare_amount`, `tip_amount`, `tolls_amount`, and `total_amount` columns."
      ]
    },
    {
      "cell_type": "code",
      "execution_count": 32,
      "metadata": {
        "colab": {
          "base_uri": "https://localhost:8080/"
        },
        "id": "ya3rl6kOVp95",
        "outputId": "4d79405c-5754-4b21-8af5-8bc85f9ee9e2"
      },
      "outputs": [
        {
          "output_type": "execute_result",
          "data": {
            "text/plain": [
              "<bound method NDFrame.keys of       vendorid     tpep_pickup_datetime    tpep_dropoff_datetime  \\\n",
              "0            2  2019-10-23T16:39:42.000  2019-10-23T17:14:10.000   \n",
              "1            1  2019-10-23T16:32:08.000  2019-10-23T16:45:26.000   \n",
              "2            2  2019-10-23T16:08:44.000  2019-10-23T16:21:11.000   \n",
              "3            2  2019-10-23T16:22:44.000  2019-10-23T16:43:26.000   \n",
              "4            2  2019-10-23T16:45:11.000  2019-10-23T16:58:49.000   \n",
              "...        ...                      ...                      ...   \n",
              "9995         1  2019-10-23T17:39:59.000  2019-10-23T17:49:26.000   \n",
              "9996         1  2019-10-23T17:53:02.000  2019-10-23T18:00:45.000   \n",
              "9997         1  2019-10-23T17:07:16.000  2019-10-23T17:11:35.000   \n",
              "9998         1  2019-10-23T17:38:26.000  2019-10-23T17:49:28.000   \n",
              "9999         1  2019-10-23T17:22:14.000  2019-10-23T17:52:09.000   \n",
              "\n",
              "      passenger_count  trip_distance  ratecodeid store_and_fwd_flag  \\\n",
              "0                   1           7.93           1                  N   \n",
              "1                   1           2.00           1                  N   \n",
              "2                   1           1.36           1                  N   \n",
              "3                   1           1.00           1                  N   \n",
              "4                   1           1.96           1                  N   \n",
              "...               ...            ...         ...                ...   \n",
              "9995                2           1.30           1                  N   \n",
              "9996                1           1.40           1                  N   \n",
              "9997                1           0.70           1                  N   \n",
              "9998                2           2.50           1                  N   \n",
              "9999                1           3.00           1                  N   \n",
              "\n",
              "      pulocationid  dolocationid  payment_type  fare_amount  extra  mta_tax  \\\n",
              "0              138           170             1         29.5    1.0      0.5   \n",
              "1               11            26             1         10.5    1.0      0.5   \n",
              "2              163           162             1          9.5    1.0      0.5   \n",
              "3              170           163             1         13.0    1.0      0.5   \n",
              "4              163           236             1         10.5    1.0      0.5   \n",
              "...            ...           ...           ...          ...    ...      ...   \n",
              "9995           238           239             1          8.0    3.5      0.5   \n",
              "9996           239           166             2          8.0    3.5      0.5   \n",
              "9997           166           152             2          5.0    1.0      0.5   \n",
              "9998           151            42             1         10.0    1.0      0.5   \n",
              "9999           237            68             1         19.0    3.5      0.5   \n",
              "\n",
              "      tip_amount  tolls_amount  improvement_surcharge  total_amount  \\\n",
              "0           7.98          6.12                    0.3         47.90   \n",
              "1           0.00          0.00                    0.3         12.30   \n",
              "2           2.00          0.00                    0.3         15.80   \n",
              "3           4.32          0.00                    0.3         21.62   \n",
              "4           0.50          0.00                    0.3         15.30   \n",
              "...          ...           ...                    ...           ...   \n",
              "9995        2.46          0.00                    0.3         14.76   \n",
              "9996        0.00          0.00                    0.3         12.30   \n",
              "9997        0.00          0.00                    0.3          6.80   \n",
              "9998        0.00          0.00                    0.3         11.80   \n",
              "9999        2.50          0.00                    0.3         25.80   \n",
              "\n",
              "      congestion_surcharge  \n",
              "0                      2.5  \n",
              "1                      0.0  \n",
              "2                      2.5  \n",
              "3                      2.5  \n",
              "4                      2.5  \n",
              "...                    ...  \n",
              "9995                   2.5  \n",
              "9996                   2.5  \n",
              "9997                   0.0  \n",
              "9998                   0.0  \n",
              "9999                   2.5  \n",
              "\n",
              "[10000 rows x 18 columns]>"
            ]
          },
          "metadata": {},
          "execution_count": 32
        }
      ],
      "source": [
        "trips.keys"
      ]
    },
    {
      "cell_type": "markdown",
      "metadata": {
        "id": "T1RdfADqVp95"
      },
      "source": [
        "#### Exercise 1.4\n",
        "##### Isolate the `fare_amount`, `tip_amount`, `tolls_amount`, and `total_amount` for the longest trip by distance (`trip_distance`)."
      ]
    },
    {
      "cell_type": "code",
      "execution_count": 30,
      "metadata": {
        "colab": {
          "base_uri": "https://localhost:8080/"
        },
        "id": "n8htb6pEVp95",
        "outputId": "81cb2f48-1ba4-4750-c9c8-078bc711d3ce"
      },
      "outputs": [
        {
          "output_type": "stream",
          "name": "stdout",
          "text": [
            "176.0\n",
            "43.0\n",
            "612.0\n",
            "38.11\n"
          ]
        }
      ],
      "source": [
        "fare = (trips.fare_amount.max())\n",
        "tip = (trips.tip_amount.max())\n",
        "tolls = (trips.tolls_amount.max())\n",
        "distance = (trips.trip_distance.max())\n",
        "print(fare)\n",
        "print(tip)\n",
        "print(tolls)\n",
        "print(distance)"
      ]
    },
    {
      "cell_type": "markdown",
      "metadata": {
        "id": "q0LmYmkZVp95"
      },
      "source": [
        "---\n",
        "\n",
        "### Section 2\n",
        "\n",
        "#### Exercise 2.1\n",
        "##### Read in the meteorite data from the `Meteorite_Landings.csv` file, rename the `mass (g)` column to `mass`, and drop all the latitude and longitude columns. Sort the result by mass in descending order."
      ]
    },
    {
      "cell_type": "code",
      "execution_count": 79,
      "metadata": {
        "colab": {
          "base_uri": "https://localhost:8080/"
        },
        "id": "dfCDC1vCVp95",
        "outputId": "e5d50016-8031-4918-e533-887dd95a0b03"
      },
      "outputs": [
        {
          "output_type": "execute_result",
          "data": {
            "text/plain": [
              "Index(['name', 'id', 'nametype', 'recclass', 'mass', 'fall', 'year',\n",
              "       'GeoLocation'],\n",
              "      dtype='object')"
            ]
          },
          "metadata": {},
          "execution_count": 79
        }
      ],
      "source": [
        "meteor = pd.read_csv(\"./Meteorite_Landings.csv\")\n",
        "meteor = meteor.rename(columns = {'mass (g)':'mass'}).columns\n",
        "columns_to_drop = [meteor[7],meteor[8]]\n",
        "meteor = meteor.drop(columns_to_drop)\n",
        "meteor\n",
        "\n",
        "\n"
      ]
    },
    {
      "cell_type": "markdown",
      "metadata": {
        "id": "hJCnI4F1Vp95"
      },
      "source": [
        "#### Exercise 2.2\n",
        "##### Using the meteorite data from the `Meteorite_Landings.csv` file, update the `year` column to only contain the year, convert it to a numeric data type, and create a new column indicating whether the meteorite was observed falling before 1970. Set the index to the `id` column and extract all the rows with IDs between 10,036 and 10,040 (inclusive) with `loc[]`.\n",
        "\n",
        "###### **Hint 1**: Use `year.str.slice()` to grab a substring.\n",
        "\n",
        "###### **Hint 2**: Make sure to sort the index before using `loc[]` to select the range.\n",
        "\n",
        "###### **Bonus**: There's a data entry error in the `year` column. Can you find it? (Don't spend too much time on this.)"
      ]
    },
    {
      "cell_type": "code",
      "execution_count": null,
      "metadata": {
        "id": "a60nZXShVp95"
      },
      "outputs": [],
      "source": []
    },
    {
      "cell_type": "markdown",
      "metadata": {
        "id": "2aVPHQ9aVp95"
      },
      "source": [
        "#### Exercise 2.3\n",
        "##### Using the meteorite data from the `Meteorite_Landings.csv` file, create a pivot table that shows both the number of meteorites and the 95th percentile of meteorite mass for those that were found versus observed falling per year from 2005 through 2009 (inclusive). Hint: Be sure to convert the `year` column to a number as we did in the previous exercise."
      ]
    },
    {
      "cell_type": "code",
      "execution_count": null,
      "metadata": {
        "id": "j7hCgO5eVp95"
      },
      "outputs": [],
      "source": []
    },
    {
      "cell_type": "markdown",
      "metadata": {
        "id": "aCPwYYntVp95"
      },
      "source": [
        "#### Exercise 2.4\n",
        "##### Using the meteorite data from the `Meteorite_Landings.csv` file, compare summary statistics of the mass column for the meteorites that were found versus observed falling."
      ]
    },
    {
      "cell_type": "code",
      "execution_count": null,
      "metadata": {
        "id": "-RpVMR9cVp95"
      },
      "outputs": [],
      "source": []
    },
    {
      "cell_type": "markdown",
      "metadata": {
        "id": "7Ijxrii3Vp96"
      },
      "source": [
        "#### Exercise 2.5\n",
        "##### Using the taxi trip data in the `2019_Yellow_Taxi_Trip_Data.csv` file, resample the data to an hourly frequency based on the dropoff time. Calculate the total `trip_distance`, `fare_amount`, `tolls_amount`, and `tip_amount`, then find the 5 hours with the most tips."
      ]
    },
    {
      "cell_type": "code",
      "execution_count": null,
      "metadata": {
        "id": "eDhbHKckVp96"
      },
      "outputs": [],
      "source": []
    },
    {
      "cell_type": "markdown",
      "metadata": {
        "id": "eJ_So6ylVp96"
      },
      "source": [
        "---\n",
        "\n",
        "### Section 3\n",
        "\n",
        "#### Exercise 3.1\n",
        "##### Using the TSA traveler throughput data in the `tsa_melted_holiday_travel.csv` file, create box plots for traveler throughput for each year in the data. Hint: Pass `kind='box'` into the `plot()` method to generate box plots."
      ]
    },
    {
      "cell_type": "code",
      "execution_count": null,
      "metadata": {
        "id": "PruRJKbLVp96"
      },
      "outputs": [],
      "source": []
    },
    {
      "cell_type": "markdown",
      "metadata": {
        "id": "2YZGBRM-Vp96"
      },
      "source": [
        "#### Exercise 3.2\n",
        "##### Using the TSA traveler throughput data in the `tsa_melted_holiday_travel.csv` file, create a heatmap that shows the 2019 TSA median traveler throughput by day of week and month."
      ]
    },
    {
      "cell_type": "code",
      "execution_count": null,
      "metadata": {
        "id": "jW6vOezIVp96"
      },
      "outputs": [],
      "source": []
    },
    {
      "cell_type": "markdown",
      "metadata": {
        "id": "0WJ6M3OmVp96"
      },
      "source": [
        "#### Exercise 3.3\n",
        "##### Annotate the medians in the box plot from *[Exercise 3.1](#Exercise-3.1)*. Hint: The `x` coordinates will be 1, 2, and 3 for 2019, 2020, and 2021, respectively. Alternatively, to avoid hardcoding values, you can use the `Axes.get_xticklabels()` method, in which case you should look at the [documentation](https://matplotlib.org/stable/api/text_api.html) for the `Text` class."
      ]
    },
    {
      "cell_type": "code",
      "execution_count": null,
      "metadata": {
        "id": "a_sk43t9Vp96"
      },
      "outputs": [],
      "source": []
    }
  ],
  "metadata": {
    "kernelspec": {
      "display_name": "Python 3 (ipykernel)",
      "language": "python",
      "name": "python3"
    },
    "language_info": {
      "codemirror_mode": {
        "name": "ipython",
        "version": 3
      },
      "file_extension": ".py",
      "mimetype": "text/x-python",
      "name": "python",
      "nbconvert_exporter": "python",
      "pygments_lexer": "ipython3",
      "version": "3.11.4"
    },
    "orig_nbformat": 4,
    "colab": {
      "provenance": []
    }
  },
  "nbformat": 4,
  "nbformat_minor": 0
}