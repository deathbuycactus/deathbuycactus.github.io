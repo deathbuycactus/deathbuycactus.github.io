{
  "cells": [
    {
      "cell_type": "markdown",
      "metadata": {
        "id": "8sPAgWJUQ2AR"
      },
      "source": [
        "# Section 1: Getting Started With Pandas\n",
        "\n",
        "We will begin by introducing the `Series`, `DataFrame`, and `Index` classes, which are the basic building blocks of the pandas library, and showing how to work with them. By the end of this section, you will be able to create DataFrames and perform operations on them to inspect and filter the data."
      ]
    },
    {
      "cell_type": "markdown",
      "metadata": {
        "id": "ZoavWfa6Q2AS"
      },
      "source": [
        "## Anatomy of a DataFrame\n",
        "\n",
        "A **DataFrame** is composed of one or more **Series**. The names of the **Series** form the column names, and the row labels form the **Index**."
      ]
    },
    {
      "cell_type": "code",
      "execution_count": 96,
      "metadata": {
        "id": "k88zPEQXQ2AS",
        "outputId": "827d6aa4-3f87-4db7-914f-0bdc14f57035",
        "colab": {
          "base_uri": "https://localhost:8080/",
          "height": 206
        }
      },
      "outputs": [
        {
          "output_type": "execute_result",
          "data": {
            "text/plain": [
              "       name   id nametype     recclass  mass (g)  fall  \\\n",
              "0    Aachen    1    Valid           L5        21  Fell   \n",
              "1    Aarhus    2    Valid           H6       720  Fell   \n",
              "2      Abee    6    Valid          EH4    107000  Fell   \n",
              "3  Acapulco   10    Valid  Acapulcoite      1914  Fell   \n",
              "4   Achiras  370    Valid           L6       780  Fell   \n",
              "\n",
              "                     year    reclat    reclong           GeoLocation  \n",
              "0  01/01/1880 12:00:00 AM  50.77500    6.08333     (50.775, 6.08333)  \n",
              "1  01/01/1951 12:00:00 AM  56.18333   10.23333  (56.18333, 10.23333)  \n",
              "2  01/01/1952 12:00:00 AM  54.21667 -113.00000    (54.21667, -113.0)  \n",
              "3  01/01/1976 12:00:00 AM  16.88333  -99.90000     (16.88333, -99.9)  \n",
              "4  01/01/1902 12:00:00 AM -33.16667  -64.95000   (-33.16667, -64.95)  "
            ],
            "text/html": [
              "\n",
              "  <div id=\"df-d55bf364-cc42-4999-a7d5-d1fb08fafec2\" class=\"colab-df-container\">\n",
              "    <div>\n",
              "<style scoped>\n",
              "    .dataframe tbody tr th:only-of-type {\n",
              "        vertical-align: middle;\n",
              "    }\n",
              "\n",
              "    .dataframe tbody tr th {\n",
              "        vertical-align: top;\n",
              "    }\n",
              "\n",
              "    .dataframe thead th {\n",
              "        text-align: right;\n",
              "    }\n",
              "</style>\n",
              "<table border=\"1\" class=\"dataframe\">\n",
              "  <thead>\n",
              "    <tr style=\"text-align: right;\">\n",
              "      <th></th>\n",
              "      <th>name</th>\n",
              "      <th>id</th>\n",
              "      <th>nametype</th>\n",
              "      <th>recclass</th>\n",
              "      <th>mass (g)</th>\n",
              "      <th>fall</th>\n",
              "      <th>year</th>\n",
              "      <th>reclat</th>\n",
              "      <th>reclong</th>\n",
              "      <th>GeoLocation</th>\n",
              "    </tr>\n",
              "  </thead>\n",
              "  <tbody>\n",
              "    <tr>\n",
              "      <th>0</th>\n",
              "      <td>Aachen</td>\n",
              "      <td>1</td>\n",
              "      <td>Valid</td>\n",
              "      <td>L5</td>\n",
              "      <td>21</td>\n",
              "      <td>Fell</td>\n",
              "      <td>01/01/1880 12:00:00 AM</td>\n",
              "      <td>50.77500</td>\n",
              "      <td>6.08333</td>\n",
              "      <td>(50.775, 6.08333)</td>\n",
              "    </tr>\n",
              "    <tr>\n",
              "      <th>1</th>\n",
              "      <td>Aarhus</td>\n",
              "      <td>2</td>\n",
              "      <td>Valid</td>\n",
              "      <td>H6</td>\n",
              "      <td>720</td>\n",
              "      <td>Fell</td>\n",
              "      <td>01/01/1951 12:00:00 AM</td>\n",
              "      <td>56.18333</td>\n",
              "      <td>10.23333</td>\n",
              "      <td>(56.18333, 10.23333)</td>\n",
              "    </tr>\n",
              "    <tr>\n",
              "      <th>2</th>\n",
              "      <td>Abee</td>\n",
              "      <td>6</td>\n",
              "      <td>Valid</td>\n",
              "      <td>EH4</td>\n",
              "      <td>107000</td>\n",
              "      <td>Fell</td>\n",
              "      <td>01/01/1952 12:00:00 AM</td>\n",
              "      <td>54.21667</td>\n",
              "      <td>-113.00000</td>\n",
              "      <td>(54.21667, -113.0)</td>\n",
              "    </tr>\n",
              "    <tr>\n",
              "      <th>3</th>\n",
              "      <td>Acapulco</td>\n",
              "      <td>10</td>\n",
              "      <td>Valid</td>\n",
              "      <td>Acapulcoite</td>\n",
              "      <td>1914</td>\n",
              "      <td>Fell</td>\n",
              "      <td>01/01/1976 12:00:00 AM</td>\n",
              "      <td>16.88333</td>\n",
              "      <td>-99.90000</td>\n",
              "      <td>(16.88333, -99.9)</td>\n",
              "    </tr>\n",
              "    <tr>\n",
              "      <th>4</th>\n",
              "      <td>Achiras</td>\n",
              "      <td>370</td>\n",
              "      <td>Valid</td>\n",
              "      <td>L6</td>\n",
              "      <td>780</td>\n",
              "      <td>Fell</td>\n",
              "      <td>01/01/1902 12:00:00 AM</td>\n",
              "      <td>-33.16667</td>\n",
              "      <td>-64.95000</td>\n",
              "      <td>(-33.16667, -64.95)</td>\n",
              "    </tr>\n",
              "  </tbody>\n",
              "</table>\n",
              "</div>\n",
              "    <div class=\"colab-df-buttons\">\n",
              "\n",
              "  <div class=\"colab-df-container\">\n",
              "    <button class=\"colab-df-convert\" onclick=\"convertToInteractive('df-d55bf364-cc42-4999-a7d5-d1fb08fafec2')\"\n",
              "            title=\"Convert this dataframe to an interactive table.\"\n",
              "            style=\"display:none;\">\n",
              "\n",
              "  <svg xmlns=\"http://www.w3.org/2000/svg\" height=\"24px\" viewBox=\"0 -960 960 960\">\n",
              "    <path d=\"M120-120v-720h720v720H120Zm60-500h600v-160H180v160Zm220 220h160v-160H400v160Zm0 220h160v-160H400v160ZM180-400h160v-160H180v160Zm440 0h160v-160H620v160ZM180-180h160v-160H180v160Zm440 0h160v-160H620v160Z\"/>\n",
              "  </svg>\n",
              "    </button>\n",
              "\n",
              "  <style>\n",
              "    .colab-df-container {\n",
              "      display:flex;\n",
              "      gap: 12px;\n",
              "    }\n",
              "\n",
              "    .colab-df-convert {\n",
              "      background-color: #E8F0FE;\n",
              "      border: none;\n",
              "      border-radius: 50%;\n",
              "      cursor: pointer;\n",
              "      display: none;\n",
              "      fill: #1967D2;\n",
              "      height: 32px;\n",
              "      padding: 0 0 0 0;\n",
              "      width: 32px;\n",
              "    }\n",
              "\n",
              "    .colab-df-convert:hover {\n",
              "      background-color: #E2EBFA;\n",
              "      box-shadow: 0px 1px 2px rgba(60, 64, 67, 0.3), 0px 1px 3px 1px rgba(60, 64, 67, 0.15);\n",
              "      fill: #174EA6;\n",
              "    }\n",
              "\n",
              "    .colab-df-buttons div {\n",
              "      margin-bottom: 4px;\n",
              "    }\n",
              "\n",
              "    [theme=dark] .colab-df-convert {\n",
              "      background-color: #3B4455;\n",
              "      fill: #D2E3FC;\n",
              "    }\n",
              "\n",
              "    [theme=dark] .colab-df-convert:hover {\n",
              "      background-color: #434B5C;\n",
              "      box-shadow: 0px 1px 3px 1px rgba(0, 0, 0, 0.15);\n",
              "      filter: drop-shadow(0px 1px 2px rgba(0, 0, 0, 0.3));\n",
              "      fill: #FFFFFF;\n",
              "    }\n",
              "  </style>\n",
              "\n",
              "    <script>\n",
              "      const buttonEl =\n",
              "        document.querySelector('#df-d55bf364-cc42-4999-a7d5-d1fb08fafec2 button.colab-df-convert');\n",
              "      buttonEl.style.display =\n",
              "        google.colab.kernel.accessAllowed ? 'block' : 'none';\n",
              "\n",
              "      async function convertToInteractive(key) {\n",
              "        const element = document.querySelector('#df-d55bf364-cc42-4999-a7d5-d1fb08fafec2');\n",
              "        const dataTable =\n",
              "          await google.colab.kernel.invokeFunction('convertToInteractive',\n",
              "                                                    [key], {});\n",
              "        if (!dataTable) return;\n",
              "\n",
              "        const docLinkHtml = 'Like what you see? Visit the ' +\n",
              "          '<a target=\"_blank\" href=https://colab.research.google.com/notebooks/data_table.ipynb>data table notebook</a>'\n",
              "          + ' to learn more about interactive tables.';\n",
              "        element.innerHTML = '';\n",
              "        dataTable['output_type'] = 'display_data';\n",
              "        await google.colab.output.renderOutput(dataTable, element);\n",
              "        const docLink = document.createElement('div');\n",
              "        docLink.innerHTML = docLinkHtml;\n",
              "        element.appendChild(docLink);\n",
              "      }\n",
              "    </script>\n",
              "  </div>\n",
              "\n",
              "\n",
              "<div id=\"df-b3234055-28f9-4169-9ee8-e6e938c3c1a4\">\n",
              "  <button class=\"colab-df-quickchart\" onclick=\"quickchart('df-b3234055-28f9-4169-9ee8-e6e938c3c1a4')\"\n",
              "            title=\"Suggest charts.\"\n",
              "            style=\"display:none;\">\n",
              "\n",
              "<svg xmlns=\"http://www.w3.org/2000/svg\" height=\"24px\"viewBox=\"0 0 24 24\"\n",
              "     width=\"24px\">\n",
              "    <g>\n",
              "        <path d=\"M19 3H5c-1.1 0-2 .9-2 2v14c0 1.1.9 2 2 2h14c1.1 0 2-.9 2-2V5c0-1.1-.9-2-2-2zM9 17H7v-7h2v7zm4 0h-2V7h2v10zm4 0h-2v-4h2v4z\"/>\n",
              "    </g>\n",
              "</svg>\n",
              "  </button>\n",
              "\n",
              "<style>\n",
              "  .colab-df-quickchart {\n",
              "      --bg-color: #E8F0FE;\n",
              "      --fill-color: #1967D2;\n",
              "      --hover-bg-color: #E2EBFA;\n",
              "      --hover-fill-color: #174EA6;\n",
              "      --disabled-fill-color: #AAA;\n",
              "      --disabled-bg-color: #DDD;\n",
              "  }\n",
              "\n",
              "  [theme=dark] .colab-df-quickchart {\n",
              "      --bg-color: #3B4455;\n",
              "      --fill-color: #D2E3FC;\n",
              "      --hover-bg-color: #434B5C;\n",
              "      --hover-fill-color: #FFFFFF;\n",
              "      --disabled-bg-color: #3B4455;\n",
              "      --disabled-fill-color: #666;\n",
              "  }\n",
              "\n",
              "  .colab-df-quickchart {\n",
              "    background-color: var(--bg-color);\n",
              "    border: none;\n",
              "    border-radius: 50%;\n",
              "    cursor: pointer;\n",
              "    display: none;\n",
              "    fill: var(--fill-color);\n",
              "    height: 32px;\n",
              "    padding: 0;\n",
              "    width: 32px;\n",
              "  }\n",
              "\n",
              "  .colab-df-quickchart:hover {\n",
              "    background-color: var(--hover-bg-color);\n",
              "    box-shadow: 0 1px 2px rgba(60, 64, 67, 0.3), 0 1px 3px 1px rgba(60, 64, 67, 0.15);\n",
              "    fill: var(--button-hover-fill-color);\n",
              "  }\n",
              "\n",
              "  .colab-df-quickchart-complete:disabled,\n",
              "  .colab-df-quickchart-complete:disabled:hover {\n",
              "    background-color: var(--disabled-bg-color);\n",
              "    fill: var(--disabled-fill-color);\n",
              "    box-shadow: none;\n",
              "  }\n",
              "\n",
              "  .colab-df-spinner {\n",
              "    border: 2px solid var(--fill-color);\n",
              "    border-color: transparent;\n",
              "    border-bottom-color: var(--fill-color);\n",
              "    animation:\n",
              "      spin 1s steps(1) infinite;\n",
              "  }\n",
              "\n",
              "  @keyframes spin {\n",
              "    0% {\n",
              "      border-color: transparent;\n",
              "      border-bottom-color: var(--fill-color);\n",
              "      border-left-color: var(--fill-color);\n",
              "    }\n",
              "    20% {\n",
              "      border-color: transparent;\n",
              "      border-left-color: var(--fill-color);\n",
              "      border-top-color: var(--fill-color);\n",
              "    }\n",
              "    30% {\n",
              "      border-color: transparent;\n",
              "      border-left-color: var(--fill-color);\n",
              "      border-top-color: var(--fill-color);\n",
              "      border-right-color: var(--fill-color);\n",
              "    }\n",
              "    40% {\n",
              "      border-color: transparent;\n",
              "      border-right-color: var(--fill-color);\n",
              "      border-top-color: var(--fill-color);\n",
              "    }\n",
              "    60% {\n",
              "      border-color: transparent;\n",
              "      border-right-color: var(--fill-color);\n",
              "    }\n",
              "    80% {\n",
              "      border-color: transparent;\n",
              "      border-right-color: var(--fill-color);\n",
              "      border-bottom-color: var(--fill-color);\n",
              "    }\n",
              "    90% {\n",
              "      border-color: transparent;\n",
              "      border-bottom-color: var(--fill-color);\n",
              "    }\n",
              "  }\n",
              "</style>\n",
              "\n",
              "  <script>\n",
              "    async function quickchart(key) {\n",
              "      const quickchartButtonEl =\n",
              "        document.querySelector('#' + key + ' button');\n",
              "      quickchartButtonEl.disabled = true;  // To prevent multiple clicks.\n",
              "      quickchartButtonEl.classList.add('colab-df-spinner');\n",
              "      try {\n",
              "        const charts = await google.colab.kernel.invokeFunction(\n",
              "            'suggestCharts', [key], {});\n",
              "      } catch (error) {\n",
              "        console.error('Error during call to suggestCharts:', error);\n",
              "      }\n",
              "      quickchartButtonEl.classList.remove('colab-df-spinner');\n",
              "      quickchartButtonEl.classList.add('colab-df-quickchart-complete');\n",
              "    }\n",
              "    (() => {\n",
              "      let quickchartButtonEl =\n",
              "        document.querySelector('#df-b3234055-28f9-4169-9ee8-e6e938c3c1a4 button');\n",
              "      quickchartButtonEl.style.display =\n",
              "        google.colab.kernel.accessAllowed ? 'block' : 'none';\n",
              "    })();\n",
              "  </script>\n",
              "</div>\n",
              "    </div>\n",
              "  </div>\n"
            ]
          },
          "metadata": {},
          "execution_count": 96
        }
      ],
      "source": [
        "import pandas as pd\n",
        "\n",
        "meteorites = pd.read_csv(\"./Meteorite_Landings.csv\",nrows = 5)\n",
        "meteorites\n",
        "\n",
        "# Read 5 rows of '../data/Meteorite_Landings.csv'\n"
      ]
    },
    {
      "cell_type": "markdown",
      "metadata": {
        "id": "SFeMJwelQ2AT"
      },
      "source": [
        "*Source: [NASA's Open Data Portal](https://data.nasa.gov/Space-Science/Meteorite-Landings/gh4g-9sfh)*"
      ]
    },
    {
      "cell_type": "markdown",
      "metadata": {
        "id": "zoLwPGzCQ2AT"
      },
      "source": [
        "#### Series:"
      ]
    },
    {
      "cell_type": "code",
      "execution_count": 97,
      "metadata": {
        "id": "fApiBNFgQ2AT",
        "outputId": "441f5e72-07a9-493a-f11b-48363521fa41",
        "colab": {
          "base_uri": "https://localhost:8080/"
        }
      },
      "outputs": [
        {
          "output_type": "execute_result",
          "data": {
            "text/plain": [
              "<bound method DataFrame.info of        name   id nametype     recclass  mass (g)  fall  \\\n",
              "0    Aachen    1    Valid           L5        21  Fell   \n",
              "1    Aarhus    2    Valid           H6       720  Fell   \n",
              "2      Abee    6    Valid          EH4    107000  Fell   \n",
              "3  Acapulco   10    Valid  Acapulcoite      1914  Fell   \n",
              "4   Achiras  370    Valid           L6       780  Fell   \n",
              "\n",
              "                     year    reclat    reclong           GeoLocation  \n",
              "0  01/01/1880 12:00:00 AM  50.77500    6.08333     (50.775, 6.08333)  \n",
              "1  01/01/1951 12:00:00 AM  56.18333   10.23333  (56.18333, 10.23333)  \n",
              "2  01/01/1952 12:00:00 AM  54.21667 -113.00000    (54.21667, -113.0)  \n",
              "3  01/01/1976 12:00:00 AM  16.88333  -99.90000     (16.88333, -99.9)  \n",
              "4  01/01/1902 12:00:00 AM -33.16667  -64.95000   (-33.16667, -64.95)  >"
            ]
          },
          "metadata": {},
          "execution_count": 97
        }
      ],
      "source": [
        "meteorites.info"
      ]
    },
    {
      "cell_type": "markdown",
      "metadata": {
        "id": "aV9x32ZwQ2AU"
      },
      "source": [
        "#### Columns:"
      ]
    },
    {
      "cell_type": "code",
      "execution_count": 98,
      "metadata": {
        "id": "luU2HqvSQ2AU"
      },
      "outputs": [],
      "source": [
        "# All columns"
      ]
    },
    {
      "cell_type": "markdown",
      "metadata": {
        "id": "AoSkVOcuQ2AU"
      },
      "source": [
        "#### Index:"
      ]
    },
    {
      "cell_type": "code",
      "execution_count": 99,
      "metadata": {
        "id": "vpMAdVziQ2AU",
        "outputId": "94c39a4d-476f-477c-ac42-6b37673b5634",
        "colab": {
          "base_uri": "https://localhost:8080/"
        }
      },
      "outputs": [
        {
          "output_type": "execute_result",
          "data": {
            "text/plain": [
              "RangeIndex(start=0, stop=5, step=1)"
            ]
          },
          "metadata": {},
          "execution_count": 99
        }
      ],
      "source": [
        "meteorites.index"
      ]
    },
    {
      "cell_type": "markdown",
      "metadata": {
        "id": "PQWt5LoFQ2AU"
      },
      "source": [
        "## Creating DataFrames\n",
        "\n",
        "We can create DataFrames from a variety of sources such as other Python objects, flat files, webscraping, and API requests. Here, we will see just a couple of examples, but be sure to check out [this page](https://pandas.pydata.org/pandas-docs/stable/user_guide/io.html) in the documentation for a complete list."
      ]
    },
    {
      "cell_type": "markdown",
      "metadata": {
        "id": "OdXpX5MNQ2AU"
      },
      "source": [
        "### Using a flat file"
      ]
    },
    {
      "cell_type": "code",
      "execution_count": 100,
      "metadata": {
        "id": "eDmBQb75Q2AU"
      },
      "outputs": [],
      "source": [
        "meteorites = pd.read_csv(\"./Meteorite_Landings.csv\")"
      ]
    },
    {
      "cell_type": "markdown",
      "metadata": {
        "id": "PhLB8oDdQ2AU"
      },
      "source": [
        "*Tip: There are many parameters to this function to handle some initial processing while reading in the file &ndash; be sure check out the [documentation](https://pandas.pydata.org/docs/reference/api/pandas.read_csv.html).*"
      ]
    },
    {
      "cell_type": "markdown",
      "metadata": {
        "id": "cOk8MTyOQ2AV"
      },
      "source": [
        "### Using data from an API\n",
        "\n",
        "Collect the data from [NASA's Open Data Portal](https://data.nasa.gov/Space-Science/Meteorite-Landings/gh4g-9sfh) using the Socrata Open Data API (SODA) with the `requests` library:"
      ]
    },
    {
      "cell_type": "code",
      "execution_count": 101,
      "metadata": {
        "id": "miyTGW9sQ2AV"
      },
      "outputs": [],
      "source": [
        "import requests\n",
        "response = requests.get(\"https://data.nasa.gov/resource/gh4g-9sfh.json\")\n",
        "payload = response.json()"
      ]
    },
    {
      "cell_type": "markdown",
      "metadata": {
        "id": "IxTO587aQ2AV"
      },
      "source": [
        "Create the DataFrame with the resulting payload:"
      ]
    },
    {
      "cell_type": "code",
      "execution_count": 102,
      "metadata": {
        "id": "vrYkvy4SQ2AV",
        "outputId": "cf731a98-196e-4291-ff6f-559845e7ba8f",
        "colab": {
          "base_uri": "https://localhost:8080/",
          "height": 293
        }
      },
      "outputs": [
        {
          "output_type": "execute_result",
          "data": {
            "text/plain": [
              "       name   id nametype     recclass    mass  fall                     year  \\\n",
              "0    Aachen    1    Valid           L5      21  Fell  1880-01-01T00:00:00.000   \n",
              "1    Aarhus    2    Valid           H6     720  Fell  1951-01-01T00:00:00.000   \n",
              "2      Abee    6    Valid          EH4  107000  Fell  1952-01-01T00:00:00.000   \n",
              "3  Acapulco   10    Valid  Acapulcoite    1914  Fell  1976-01-01T00:00:00.000   \n",
              "4   Achiras  370    Valid           L6     780  Fell  1902-01-01T00:00:00.000   \n",
              "\n",
              "       reclat      reclong                                        geolocation  \\\n",
              "0   50.775000     6.083330     {'latitude': '50.775', 'longitude': '6.08333'}   \n",
              "1   56.183330    10.233330  {'latitude': '56.18333', 'longitude': '10.23333'}   \n",
              "2   54.216670  -113.000000    {'latitude': '54.21667', 'longitude': '-113.0'}   \n",
              "3   16.883330   -99.900000     {'latitude': '16.88333', 'longitude': '-99.9'}   \n",
              "4  -33.166670   -64.950000   {'latitude': '-33.16667', 'longitude': '-64.95'}   \n",
              "\n",
              "  :@computed_region_cbhk_fwbd :@computed_region_nnqa_25f4  \n",
              "0                         NaN                         NaN  \n",
              "1                         NaN                         NaN  \n",
              "2                         NaN                         NaN  \n",
              "3                         NaN                         NaN  \n",
              "4                         NaN                         NaN  "
            ],
            "text/html": [
              "\n",
              "  <div id=\"df-321d9ac9-c8df-4d51-b1ed-decc2fd20f17\" class=\"colab-df-container\">\n",
              "    <div>\n",
              "<style scoped>\n",
              "    .dataframe tbody tr th:only-of-type {\n",
              "        vertical-align: middle;\n",
              "    }\n",
              "\n",
              "    .dataframe tbody tr th {\n",
              "        vertical-align: top;\n",
              "    }\n",
              "\n",
              "    .dataframe thead th {\n",
              "        text-align: right;\n",
              "    }\n",
              "</style>\n",
              "<table border=\"1\" class=\"dataframe\">\n",
              "  <thead>\n",
              "    <tr style=\"text-align: right;\">\n",
              "      <th></th>\n",
              "      <th>name</th>\n",
              "      <th>id</th>\n",
              "      <th>nametype</th>\n",
              "      <th>recclass</th>\n",
              "      <th>mass</th>\n",
              "      <th>fall</th>\n",
              "      <th>year</th>\n",
              "      <th>reclat</th>\n",
              "      <th>reclong</th>\n",
              "      <th>geolocation</th>\n",
              "      <th>:@computed_region_cbhk_fwbd</th>\n",
              "      <th>:@computed_region_nnqa_25f4</th>\n",
              "    </tr>\n",
              "  </thead>\n",
              "  <tbody>\n",
              "    <tr>\n",
              "      <th>0</th>\n",
              "      <td>Aachen</td>\n",
              "      <td>1</td>\n",
              "      <td>Valid</td>\n",
              "      <td>L5</td>\n",
              "      <td>21</td>\n",
              "      <td>Fell</td>\n",
              "      <td>1880-01-01T00:00:00.000</td>\n",
              "      <td>50.775000</td>\n",
              "      <td>6.083330</td>\n",
              "      <td>{'latitude': '50.775', 'longitude': '6.08333'}</td>\n",
              "      <td>NaN</td>\n",
              "      <td>NaN</td>\n",
              "    </tr>\n",
              "    <tr>\n",
              "      <th>1</th>\n",
              "      <td>Aarhus</td>\n",
              "      <td>2</td>\n",
              "      <td>Valid</td>\n",
              "      <td>H6</td>\n",
              "      <td>720</td>\n",
              "      <td>Fell</td>\n",
              "      <td>1951-01-01T00:00:00.000</td>\n",
              "      <td>56.183330</td>\n",
              "      <td>10.233330</td>\n",
              "      <td>{'latitude': '56.18333', 'longitude': '10.23333'}</td>\n",
              "      <td>NaN</td>\n",
              "      <td>NaN</td>\n",
              "    </tr>\n",
              "    <tr>\n",
              "      <th>2</th>\n",
              "      <td>Abee</td>\n",
              "      <td>6</td>\n",
              "      <td>Valid</td>\n",
              "      <td>EH4</td>\n",
              "      <td>107000</td>\n",
              "      <td>Fell</td>\n",
              "      <td>1952-01-01T00:00:00.000</td>\n",
              "      <td>54.216670</td>\n",
              "      <td>-113.000000</td>\n",
              "      <td>{'latitude': '54.21667', 'longitude': '-113.0'}</td>\n",
              "      <td>NaN</td>\n",
              "      <td>NaN</td>\n",
              "    </tr>\n",
              "    <tr>\n",
              "      <th>3</th>\n",
              "      <td>Acapulco</td>\n",
              "      <td>10</td>\n",
              "      <td>Valid</td>\n",
              "      <td>Acapulcoite</td>\n",
              "      <td>1914</td>\n",
              "      <td>Fell</td>\n",
              "      <td>1976-01-01T00:00:00.000</td>\n",
              "      <td>16.883330</td>\n",
              "      <td>-99.900000</td>\n",
              "      <td>{'latitude': '16.88333', 'longitude': '-99.9'}</td>\n",
              "      <td>NaN</td>\n",
              "      <td>NaN</td>\n",
              "    </tr>\n",
              "    <tr>\n",
              "      <th>4</th>\n",
              "      <td>Achiras</td>\n",
              "      <td>370</td>\n",
              "      <td>Valid</td>\n",
              "      <td>L6</td>\n",
              "      <td>780</td>\n",
              "      <td>Fell</td>\n",
              "      <td>1902-01-01T00:00:00.000</td>\n",
              "      <td>-33.166670</td>\n",
              "      <td>-64.950000</td>\n",
              "      <td>{'latitude': '-33.16667', 'longitude': '-64.95'}</td>\n",
              "      <td>NaN</td>\n",
              "      <td>NaN</td>\n",
              "    </tr>\n",
              "  </tbody>\n",
              "</table>\n",
              "</div>\n",
              "    <div class=\"colab-df-buttons\">\n",
              "\n",
              "  <div class=\"colab-df-container\">\n",
              "    <button class=\"colab-df-convert\" onclick=\"convertToInteractive('df-321d9ac9-c8df-4d51-b1ed-decc2fd20f17')\"\n",
              "            title=\"Convert this dataframe to an interactive table.\"\n",
              "            style=\"display:none;\">\n",
              "\n",
              "  <svg xmlns=\"http://www.w3.org/2000/svg\" height=\"24px\" viewBox=\"0 -960 960 960\">\n",
              "    <path d=\"M120-120v-720h720v720H120Zm60-500h600v-160H180v160Zm220 220h160v-160H400v160Zm0 220h160v-160H400v160ZM180-400h160v-160H180v160Zm440 0h160v-160H620v160ZM180-180h160v-160H180v160Zm440 0h160v-160H620v160Z\"/>\n",
              "  </svg>\n",
              "    </button>\n",
              "\n",
              "  <style>\n",
              "    .colab-df-container {\n",
              "      display:flex;\n",
              "      gap: 12px;\n",
              "    }\n",
              "\n",
              "    .colab-df-convert {\n",
              "      background-color: #E8F0FE;\n",
              "      border: none;\n",
              "      border-radius: 50%;\n",
              "      cursor: pointer;\n",
              "      display: none;\n",
              "      fill: #1967D2;\n",
              "      height: 32px;\n",
              "      padding: 0 0 0 0;\n",
              "      width: 32px;\n",
              "    }\n",
              "\n",
              "    .colab-df-convert:hover {\n",
              "      background-color: #E2EBFA;\n",
              "      box-shadow: 0px 1px 2px rgba(60, 64, 67, 0.3), 0px 1px 3px 1px rgba(60, 64, 67, 0.15);\n",
              "      fill: #174EA6;\n",
              "    }\n",
              "\n",
              "    .colab-df-buttons div {\n",
              "      margin-bottom: 4px;\n",
              "    }\n",
              "\n",
              "    [theme=dark] .colab-df-convert {\n",
              "      background-color: #3B4455;\n",
              "      fill: #D2E3FC;\n",
              "    }\n",
              "\n",
              "    [theme=dark] .colab-df-convert:hover {\n",
              "      background-color: #434B5C;\n",
              "      box-shadow: 0px 1px 3px 1px rgba(0, 0, 0, 0.15);\n",
              "      filter: drop-shadow(0px 1px 2px rgba(0, 0, 0, 0.3));\n",
              "      fill: #FFFFFF;\n",
              "    }\n",
              "  </style>\n",
              "\n",
              "    <script>\n",
              "      const buttonEl =\n",
              "        document.querySelector('#df-321d9ac9-c8df-4d51-b1ed-decc2fd20f17 button.colab-df-convert');\n",
              "      buttonEl.style.display =\n",
              "        google.colab.kernel.accessAllowed ? 'block' : 'none';\n",
              "\n",
              "      async function convertToInteractive(key) {\n",
              "        const element = document.querySelector('#df-321d9ac9-c8df-4d51-b1ed-decc2fd20f17');\n",
              "        const dataTable =\n",
              "          await google.colab.kernel.invokeFunction('convertToInteractive',\n",
              "                                                    [key], {});\n",
              "        if (!dataTable) return;\n",
              "\n",
              "        const docLinkHtml = 'Like what you see? Visit the ' +\n",
              "          '<a target=\"_blank\" href=https://colab.research.google.com/notebooks/data_table.ipynb>data table notebook</a>'\n",
              "          + ' to learn more about interactive tables.';\n",
              "        element.innerHTML = '';\n",
              "        dataTable['output_type'] = 'display_data';\n",
              "        await google.colab.output.renderOutput(dataTable, element);\n",
              "        const docLink = document.createElement('div');\n",
              "        docLink.innerHTML = docLinkHtml;\n",
              "        element.appendChild(docLink);\n",
              "      }\n",
              "    </script>\n",
              "  </div>\n",
              "\n",
              "\n",
              "<div id=\"df-c6466ce5-03c3-436f-9e66-e01d56c28ab3\">\n",
              "  <button class=\"colab-df-quickchart\" onclick=\"quickchart('df-c6466ce5-03c3-436f-9e66-e01d56c28ab3')\"\n",
              "            title=\"Suggest charts.\"\n",
              "            style=\"display:none;\">\n",
              "\n",
              "<svg xmlns=\"http://www.w3.org/2000/svg\" height=\"24px\"viewBox=\"0 0 24 24\"\n",
              "     width=\"24px\">\n",
              "    <g>\n",
              "        <path d=\"M19 3H5c-1.1 0-2 .9-2 2v14c0 1.1.9 2 2 2h14c1.1 0 2-.9 2-2V5c0-1.1-.9-2-2-2zM9 17H7v-7h2v7zm4 0h-2V7h2v10zm4 0h-2v-4h2v4z\"/>\n",
              "    </g>\n",
              "</svg>\n",
              "  </button>\n",
              "\n",
              "<style>\n",
              "  .colab-df-quickchart {\n",
              "      --bg-color: #E8F0FE;\n",
              "      --fill-color: #1967D2;\n",
              "      --hover-bg-color: #E2EBFA;\n",
              "      --hover-fill-color: #174EA6;\n",
              "      --disabled-fill-color: #AAA;\n",
              "      --disabled-bg-color: #DDD;\n",
              "  }\n",
              "\n",
              "  [theme=dark] .colab-df-quickchart {\n",
              "      --bg-color: #3B4455;\n",
              "      --fill-color: #D2E3FC;\n",
              "      --hover-bg-color: #434B5C;\n",
              "      --hover-fill-color: #FFFFFF;\n",
              "      --disabled-bg-color: #3B4455;\n",
              "      --disabled-fill-color: #666;\n",
              "  }\n",
              "\n",
              "  .colab-df-quickchart {\n",
              "    background-color: var(--bg-color);\n",
              "    border: none;\n",
              "    border-radius: 50%;\n",
              "    cursor: pointer;\n",
              "    display: none;\n",
              "    fill: var(--fill-color);\n",
              "    height: 32px;\n",
              "    padding: 0;\n",
              "    width: 32px;\n",
              "  }\n",
              "\n",
              "  .colab-df-quickchart:hover {\n",
              "    background-color: var(--hover-bg-color);\n",
              "    box-shadow: 0 1px 2px rgba(60, 64, 67, 0.3), 0 1px 3px 1px rgba(60, 64, 67, 0.15);\n",
              "    fill: var(--button-hover-fill-color);\n",
              "  }\n",
              "\n",
              "  .colab-df-quickchart-complete:disabled,\n",
              "  .colab-df-quickchart-complete:disabled:hover {\n",
              "    background-color: var(--disabled-bg-color);\n",
              "    fill: var(--disabled-fill-color);\n",
              "    box-shadow: none;\n",
              "  }\n",
              "\n",
              "  .colab-df-spinner {\n",
              "    border: 2px solid var(--fill-color);\n",
              "    border-color: transparent;\n",
              "    border-bottom-color: var(--fill-color);\n",
              "    animation:\n",
              "      spin 1s steps(1) infinite;\n",
              "  }\n",
              "\n",
              "  @keyframes spin {\n",
              "    0% {\n",
              "      border-color: transparent;\n",
              "      border-bottom-color: var(--fill-color);\n",
              "      border-left-color: var(--fill-color);\n",
              "    }\n",
              "    20% {\n",
              "      border-color: transparent;\n",
              "      border-left-color: var(--fill-color);\n",
              "      border-top-color: var(--fill-color);\n",
              "    }\n",
              "    30% {\n",
              "      border-color: transparent;\n",
              "      border-left-color: var(--fill-color);\n",
              "      border-top-color: var(--fill-color);\n",
              "      border-right-color: var(--fill-color);\n",
              "    }\n",
              "    40% {\n",
              "      border-color: transparent;\n",
              "      border-right-color: var(--fill-color);\n",
              "      border-top-color: var(--fill-color);\n",
              "    }\n",
              "    60% {\n",
              "      border-color: transparent;\n",
              "      border-right-color: var(--fill-color);\n",
              "    }\n",
              "    80% {\n",
              "      border-color: transparent;\n",
              "      border-right-color: var(--fill-color);\n",
              "      border-bottom-color: var(--fill-color);\n",
              "    }\n",
              "    90% {\n",
              "      border-color: transparent;\n",
              "      border-bottom-color: var(--fill-color);\n",
              "    }\n",
              "  }\n",
              "</style>\n",
              "\n",
              "  <script>\n",
              "    async function quickchart(key) {\n",
              "      const quickchartButtonEl =\n",
              "        document.querySelector('#' + key + ' button');\n",
              "      quickchartButtonEl.disabled = true;  // To prevent multiple clicks.\n",
              "      quickchartButtonEl.classList.add('colab-df-spinner');\n",
              "      try {\n",
              "        const charts = await google.colab.kernel.invokeFunction(\n",
              "            'suggestCharts', [key], {});\n",
              "      } catch (error) {\n",
              "        console.error('Error during call to suggestCharts:', error);\n",
              "      }\n",
              "      quickchartButtonEl.classList.remove('colab-df-spinner');\n",
              "      quickchartButtonEl.classList.add('colab-df-quickchart-complete');\n",
              "    }\n",
              "    (() => {\n",
              "      let quickchartButtonEl =\n",
              "        document.querySelector('#df-c6466ce5-03c3-436f-9e66-e01d56c28ab3 button');\n",
              "      quickchartButtonEl.style.display =\n",
              "        google.colab.kernel.accessAllowed ? 'block' : 'none';\n",
              "    })();\n",
              "  </script>\n",
              "</div>\n",
              "    </div>\n",
              "  </div>\n"
            ]
          },
          "metadata": {},
          "execution_count": 102
        }
      ],
      "source": [
        "df = pd.DataFrame(payload)\n",
        "df.head(5)"
      ]
    },
    {
      "cell_type": "markdown",
      "metadata": {
        "id": "XaPTELZvQ2AV"
      },
      "source": [
        "*Tip: `df.to_csv('data.csv')` writes this data to a new file called `data.csv`.*"
      ]
    },
    {
      "cell_type": "markdown",
      "metadata": {
        "id": "WKudhpbbQ2AV"
      },
      "source": [
        "## Inspecting the data\n",
        "Now that we have some data, we need to perform an initial inspection of it. This gives us information on what the data looks like, how many rows/columns there are, and how much data we have."
      ]
    },
    {
      "cell_type": "markdown",
      "metadata": {
        "id": "jR_tNPOLQ2AV"
      },
      "source": [
        "Let's inspect the `meteorites` data."
      ]
    },
    {
      "cell_type": "markdown",
      "metadata": {
        "id": "uFipmBsuQ2AV"
      },
      "source": [
        "#### How many rows and columns are there?"
      ]
    },
    {
      "cell_type": "code",
      "execution_count": 103,
      "metadata": {
        "id": "VQ1jaBzXQ2AV",
        "outputId": "22b5198e-83fb-4912-b688-fdad966f0a31",
        "colab": {
          "base_uri": "https://localhost:8080/"
        }
      },
      "outputs": [
        {
          "output_type": "execute_result",
          "data": {
            "text/plain": [
              "(45716, 10)"
            ]
          },
          "metadata": {},
          "execution_count": 103
        }
      ],
      "source": [
        "meteorites.shape"
      ]
    },
    {
      "cell_type": "markdown",
      "metadata": {
        "id": "2HYRA0EkQ2AV"
      },
      "source": [
        "#### What are the column names?"
      ]
    },
    {
      "cell_type": "code",
      "execution_count": 104,
      "metadata": {
        "id": "zP9s4eUZQ2AV",
        "outputId": "e3430980-734e-4532-e191-703889bd922a",
        "colab": {
          "base_uri": "https://localhost:8080/"
        }
      },
      "outputs": [
        {
          "output_type": "execute_result",
          "data": {
            "text/plain": [
              "Index(['name', 'id', 'nametype', 'recclass', 'mass (g)', 'fall', 'year',\n",
              "       'reclat', 'reclong', 'GeoLocation'],\n",
              "      dtype='object')"
            ]
          },
          "metadata": {},
          "execution_count": 104
        }
      ],
      "source": [
        "meteorites.columns"
      ]
    },
    {
      "cell_type": "markdown",
      "metadata": {
        "id": "xGx2iEAxQ2AV"
      },
      "source": [
        "#### What type of data does each column currently hold?"
      ]
    },
    {
      "cell_type": "code",
      "execution_count": 105,
      "metadata": {
        "id": "y8EOX4toQ2AW",
        "outputId": "ff0517b6-9c9e-4ae5-a4f7-ead87971b5a6",
        "colab": {
          "base_uri": "https://localhost:8080/"
        }
      },
      "outputs": [
        {
          "output_type": "execute_result",
          "data": {
            "text/plain": [
              "name            object\n",
              "id               int64\n",
              "nametype        object\n",
              "recclass        object\n",
              "mass (g)       float64\n",
              "fall            object\n",
              "year            object\n",
              "reclat         float64\n",
              "reclong        float64\n",
              "GeoLocation     object\n",
              "dtype: object"
            ]
          },
          "metadata": {},
          "execution_count": 105
        }
      ],
      "source": [
        "meteorites.dtypes"
      ]
    },
    {
      "cell_type": "markdown",
      "metadata": {
        "id": "ySNxW9djQ2AW"
      },
      "source": [
        "#### What does the data look like?"
      ]
    },
    {
      "cell_type": "code",
      "execution_count": 106,
      "metadata": {
        "id": "ybyHIQteQ2AW"
      },
      "outputs": [],
      "source": [
        "# \"head\" of df"
      ]
    },
    {
      "cell_type": "markdown",
      "metadata": {
        "id": "c_rOGY1QQ2AW"
      },
      "source": [
        "Sometimes there may be extraneous data at the end of the file, so checking the bottom few rows is also important:"
      ]
    },
    {
      "cell_type": "code",
      "execution_count": 107,
      "metadata": {
        "id": "NwFSp6tcQ2AW"
      },
      "outputs": [],
      "source": [
        "# Tail of df"
      ]
    },
    {
      "cell_type": "markdown",
      "metadata": {
        "id": "pL1nq2nlQ2AW"
      },
      "source": [
        "#### Get some information about the DataFrame"
      ]
    },
    {
      "cell_type": "code",
      "execution_count": 108,
      "metadata": {
        "id": "y2E8sxoBQ2AW"
      },
      "outputs": [],
      "source": [
        "# Info about meteorites data"
      ]
    },
    {
      "cell_type": "markdown",
      "metadata": {
        "id": "D0u-1AXoQ2AW"
      },
      "source": [
        "### Stop here!\n",
        "\n",
        "Complete the following exercises\n",
        "\n",
        "* [Exercise 1.1](./week1-lab2-intro-to-pandas.ipynb#Exercise-1.1)\n",
        "* [Exercise 1.2](./week1-lab2-intro-to-pandas.ipynb#Exercise-1.2)"
      ]
    },
    {
      "cell_type": "markdown",
      "metadata": {
        "id": "juKNABgfQ2AW"
      },
      "source": [
        "## Extracting subsets\n",
        "\n",
        "A crucial part of working with DataFrames is extracting subsets of the data: finding rows that meet a certain set of criteria, isolating columns/rows of interest, etc. After narrowing down our data, we are closer to discovering insights. This section will be the backbone of many analysis tasks."
      ]
    },
    {
      "cell_type": "markdown",
      "metadata": {
        "id": "cDT3bIW-Q2AW"
      },
      "source": [
        "#### Selecting columns\n",
        "\n",
        "We can select columns as attributes if their names would be valid Python variables:"
      ]
    },
    {
      "cell_type": "code",
      "execution_count": 109,
      "metadata": {
        "id": "sDDwzSHLQ2AW"
      },
      "outputs": [],
      "source": [
        "# Columns as attributes"
      ]
    },
    {
      "cell_type": "markdown",
      "metadata": {
        "id": "E2oaESeoQ2AW"
      },
      "source": [
        "If they aren't, we have to select them as keys. However, we can select multiple columns at once this way:"
      ]
    },
    {
      "cell_type": "code",
      "execution_count": 110,
      "metadata": {
        "id": "J1h-P5AOQ2AW"
      },
      "outputs": [],
      "source": [
        "# Columns as keys"
      ]
    },
    {
      "cell_type": "markdown",
      "metadata": {
        "id": "5AYEAslCQ2AZ"
      },
      "source": [
        "#### Selecting rows"
      ]
    },
    {
      "cell_type": "code",
      "execution_count": 111,
      "metadata": {
        "id": "KgjKcqfZQ2AZ"
      },
      "outputs": [],
      "source": [
        "# Selecting rows"
      ]
    },
    {
      "cell_type": "markdown",
      "metadata": {
        "id": "MJaxQkPFQ2Aa"
      },
      "source": [
        "#### Indexing\n",
        "\n",
        "We use `iloc[]` to select rows and columns by their position:"
      ]
    },
    {
      "cell_type": "code",
      "execution_count": 112,
      "metadata": {
        "id": "rX6VQzJjQ2Aa"
      },
      "outputs": [],
      "source": [
        "# Rows by position"
      ]
    },
    {
      "cell_type": "markdown",
      "metadata": {
        "id": "_orteC6_Q2Aa"
      },
      "source": [
        "We use `loc[]` to select by name:"
      ]
    },
    {
      "cell_type": "code",
      "execution_count": 113,
      "metadata": {
        "id": "f6bpAH3YQ2Aa"
      },
      "outputs": [],
      "source": [
        "# select by name"
      ]
    },
    {
      "cell_type": "markdown",
      "metadata": {
        "id": "RjBJtdBOQ2Aa"
      },
      "source": [
        "#### Filtering with Boolean masks\n",
        "\n",
        "A **Boolean mask** is a array-like structure of Boolean values &ndash; it's a way to specify which rows/columns we want to select (`True`) and which we don't (`False`)."
      ]
    },
    {
      "cell_type": "markdown",
      "metadata": {
        "id": "DUZ8pHNAQ2Aa"
      },
      "source": [
        "Here's an example of a Boolean mask for meteorites weighing more than 50 grams that were found on Earth (i.e., they were not observed falling):"
      ]
    },
    {
      "cell_type": "code",
      "execution_count": 114,
      "metadata": {
        "id": "A0WNRWmsQ2Aa"
      },
      "outputs": [],
      "source": [
        "# boolean masks"
      ]
    },
    {
      "cell_type": "markdown",
      "metadata": {
        "id": "cqNwbDvVQ2Aa"
      },
      "source": [
        "**Important**: Take note of the syntax here. We surround each condition with parentheses, and we use bitwise operators (`&`, `|`, `~`) instead of logical operators (`and`, `or`, `not`)."
      ]
    },
    {
      "cell_type": "markdown",
      "metadata": {
        "id": "3VURfY-BQ2Aa"
      },
      "source": [
        "We can use a Boolean mask to select the subset of meteorites weighing more than 1 million grams (1,000 kilograms or roughly 2,205 pounds) that were observed falling:"
      ]
    },
    {
      "cell_type": "code",
      "execution_count": 115,
      "metadata": {
        "id": "-j2ntfOsQ2Aa"
      },
      "outputs": [],
      "source": [
        "# example"
      ]
    },
    {
      "cell_type": "markdown",
      "metadata": {
        "id": "vs8dLgA_Q2Aa"
      },
      "source": [
        "*Tip: Boolean masks can be used with `loc[]` and `iloc[]`.*"
      ]
    },
    {
      "cell_type": "markdown",
      "metadata": {
        "id": "cAEEzPC3Q2Ab"
      },
      "source": [
        "An alternative to this is the `query()` method:"
      ]
    },
    {
      "cell_type": "code",
      "execution_count": 116,
      "metadata": {
        "id": "S7VbWNK4Q2Ab"
      },
      "outputs": [],
      "source": [
        "# Query language"
      ]
    },
    {
      "cell_type": "markdown",
      "metadata": {
        "id": "H-Ww1OrJQ2Ab"
      },
      "source": [
        "*Tip: Here, we can use both logical operators and bitwise operators.*"
      ]
    },
    {
      "cell_type": "markdown",
      "metadata": {
        "id": "tvbq-w5VQ2Ab"
      },
      "source": [
        "## Calculating summary statistics\n",
        "\n",
        "In the next section of this workshop, we will discuss data cleaning for a more meaningful analysis of our datasets; however, we can already extract some interesting insights from the `meteorites` data by calculating summary statistics."
      ]
    },
    {
      "cell_type": "markdown",
      "metadata": {
        "id": "LqkT3fw0Q2Ab"
      },
      "source": [
        "#### How many of the meteorites were found versus observed falling?"
      ]
    },
    {
      "cell_type": "code",
      "execution_count": 117,
      "metadata": {
        "id": "a1b1vZMeQ2Ab"
      },
      "outputs": [],
      "source": [
        "# Value counts"
      ]
    },
    {
      "cell_type": "markdown",
      "metadata": {
        "id": "zCRfaOOHQ2Ab"
      },
      "source": [
        "*Tip: Pass in `normalize=True` to see this result as percentages. Check the [documentation](https://pandas.pydata.org/docs/reference/api/pandas.Series.value_counts.html) for additional functionality.*"
      ]
    },
    {
      "cell_type": "markdown",
      "metadata": {
        "id": "jCHhedInQ2Ab"
      },
      "source": [
        "#### What was the mass of the average meterorite?"
      ]
    },
    {
      "cell_type": "code",
      "execution_count": 118,
      "metadata": {
        "id": "99t6oQBCQ2Ab"
      },
      "outputs": [],
      "source": [
        "# function on a series"
      ]
    },
    {
      "cell_type": "markdown",
      "metadata": {
        "id": "LPXn_33qQ2Ab"
      },
      "source": [
        "**Important**: The mean isn't always the best measure of central tendency. If there are outliers in the distribution, the mean will be skewed. Here, the mean is being pulled higher by some very heavy meteorites &ndash; the distribution is [right-skewed](https://www.analyticsvidhya.com/blog/2020/07/what-is-skewness-statistics/)."
      ]
    },
    {
      "cell_type": "markdown",
      "metadata": {
        "id": "z72clHidQ2Ab"
      },
      "source": [
        "Taking a look at some quantiles at the extremes of the distribution shows that the mean is between the 95th and 99th percentile of the distribution, so it isn't a good measure of central tendency here:"
      ]
    },
    {
      "cell_type": "code",
      "execution_count": 119,
      "metadata": {
        "id": "8GbTNevxQ2Ac"
      },
      "outputs": [],
      "source": [
        "# quantiles"
      ]
    },
    {
      "cell_type": "markdown",
      "metadata": {
        "id": "_snGlcdHQ2Ac"
      },
      "source": [
        "A better measure in this case is the median (50th percentile), since it is robust to outliers:"
      ]
    },
    {
      "cell_type": "code",
      "execution_count": 120,
      "metadata": {
        "id": "i6afj5J9Q2Ac"
      },
      "outputs": [],
      "source": [
        "# median"
      ]
    },
    {
      "cell_type": "markdown",
      "metadata": {
        "id": "F1D2_BQNQ2Ac"
      },
      "source": [
        "#### What was the mass of the heaviest meteorite?"
      ]
    },
    {
      "cell_type": "code",
      "execution_count": 121,
      "metadata": {
        "id": "Ix-Z3AAoQ2Ac"
      },
      "outputs": [],
      "source": [
        "# max"
      ]
    },
    {
      "cell_type": "markdown",
      "metadata": {
        "id": "8C5NJxw4Q2Ac"
      },
      "source": [
        "Let's extract the information on this meteorite:"
      ]
    },
    {
      "cell_type": "code",
      "execution_count": 122,
      "metadata": {
        "id": "vnYJC53GQ2Ac"
      },
      "outputs": [],
      "source": [
        "# idmax"
      ]
    },
    {
      "cell_type": "markdown",
      "metadata": {
        "id": "0Hq5cEEKQ2Ac"
      },
      "source": [
        "#### How many different types of meteorite classes are represented in this dataset?"
      ]
    },
    {
      "cell_type": "code",
      "execution_count": 123,
      "metadata": {
        "id": "U4BzaTe4Q2Ac"
      },
      "outputs": [],
      "source": [
        "# num unique"
      ]
    },
    {
      "cell_type": "markdown",
      "metadata": {
        "id": "e1Mzf25LQ2Ac"
      },
      "source": [
        "Some examples:"
      ]
    },
    {
      "cell_type": "code",
      "execution_count": 124,
      "metadata": {
        "id": "OeHtZrhyQ2Ad"
      },
      "outputs": [],
      "source": [
        "# inspect clases"
      ]
    },
    {
      "cell_type": "markdown",
      "metadata": {
        "id": "kIeEsJ-vQ2Ad"
      },
      "source": [
        "*Note: All fields preceded with \"rec\" are the values recommended by The Meteoritical Society. Check out [this Wikipedia article](https://en.wikipedia.org/wiki/Meteorite_classification) for some information on meteorite classes.*"
      ]
    },
    {
      "cell_type": "markdown",
      "metadata": {
        "id": "2x1gZpxSQ2Ad"
      },
      "source": [
        "#### Get some summary statistics on the data itself\n",
        "We can get common summary statistics for all columns at once. By default, this will only be numeric columns, but here, we will summarize everything together:"
      ]
    },
    {
      "cell_type": "code",
      "execution_count": 125,
      "metadata": {
        "id": "0cMuKW_AQ2Ad"
      },
      "outputs": [],
      "source": [
        "# summary stats"
      ]
    },
    {
      "cell_type": "markdown",
      "metadata": {
        "id": "ad44ulneQ2Ad"
      },
      "source": [
        "**Important**: `NaN` values signify missing data. For instance, the `fall` column contains strings, so there is no value for `mean`; likewise, `mass (g)` is numeric, so we don't have entries for the categorical summary statistics (`unique`, `top`, `freq`)."
      ]
    },
    {
      "cell_type": "markdown",
      "metadata": {
        "id": "jyKJq-PbQ2Ad"
      },
      "source": [
        "#### Check out the documentation for more descriptive statistics:\n",
        "\n",
        "- [Series](https://pandas.pydata.org/docs/reference/series.html#computations-descriptive-stats)\n",
        "- [DataFrame](https://pandas.pydata.org/docs/reference/frame.html#computations-descriptive-stats)"
      ]
    },
    {
      "cell_type": "markdown",
      "metadata": {
        "id": "OcrdsFK2Q2Ad"
      },
      "source": [
        "# Section 2: Data Wrangling\n",
        "\n",
        "To prepare our data for analysis, we need to perform data wrangling. In this section, we will learn how to clean and reformat data (e.g., renaming columns and fixing data type mismatches), restructure/reshape it, and enrich it (e.g., discretizing columns, calculating aggregations, and combining data sources)."
      ]
    },
    {
      "cell_type": "markdown",
      "metadata": {
        "id": "4FI2g82bQ2Ad"
      },
      "source": [
        "## Data cleaning\n",
        "\n",
        "In this section, we will take a look at creating, renaming, and dropping columns; type conversion; and sorting &ndash; all of which make our analysis easier. We will be working with the 2019 Yellow Taxi Trip Data provided by NYC Open Data."
      ]
    },
    {
      "cell_type": "code",
      "execution_count": 126,
      "metadata": {
        "id": "BD9s3ATcQ2Ad",
        "outputId": "824536f8-2a54-48de-fe6b-37f193052ee3",
        "colab": {
          "base_uri": "https://localhost:8080/",
          "height": 617
        }
      },
      "outputs": [
        {
          "output_type": "execute_result",
          "data": {
            "text/plain": [
              "      vendorid     tpep_pickup_datetime    tpep_dropoff_datetime  \\\n",
              "0            2  2019-10-23T16:39:42.000  2019-10-23T17:14:10.000   \n",
              "1            1  2019-10-23T16:32:08.000  2019-10-23T16:45:26.000   \n",
              "2            2  2019-10-23T16:08:44.000  2019-10-23T16:21:11.000   \n",
              "3            2  2019-10-23T16:22:44.000  2019-10-23T16:43:26.000   \n",
              "4            2  2019-10-23T16:45:11.000  2019-10-23T16:58:49.000   \n",
              "...        ...                      ...                      ...   \n",
              "9995         1  2019-10-23T17:39:59.000  2019-10-23T17:49:26.000   \n",
              "9996         1  2019-10-23T17:53:02.000  2019-10-23T18:00:45.000   \n",
              "9997         1  2019-10-23T17:07:16.000  2019-10-23T17:11:35.000   \n",
              "9998         1  2019-10-23T17:38:26.000  2019-10-23T17:49:28.000   \n",
              "9999         1  2019-10-23T17:22:14.000  2019-10-23T17:52:09.000   \n",
              "\n",
              "      passenger_count  trip_distance  ratecodeid store_and_fwd_flag  \\\n",
              "0                   1           7.93           1                  N   \n",
              "1                   1           2.00           1                  N   \n",
              "2                   1           1.36           1                  N   \n",
              "3                   1           1.00           1                  N   \n",
              "4                   1           1.96           1                  N   \n",
              "...               ...            ...         ...                ...   \n",
              "9995                2           1.30           1                  N   \n",
              "9996                1           1.40           1                  N   \n",
              "9997                1           0.70           1                  N   \n",
              "9998                2           2.50           1                  N   \n",
              "9999                1           3.00           1                  N   \n",
              "\n",
              "      pulocationid  dolocationid  payment_type  fare_amount  extra  mta_tax  \\\n",
              "0              138           170             1         29.5    1.0      0.5   \n",
              "1               11            26             1         10.5    1.0      0.5   \n",
              "2              163           162             1          9.5    1.0      0.5   \n",
              "3              170           163             1         13.0    1.0      0.5   \n",
              "4              163           236             1         10.5    1.0      0.5   \n",
              "...            ...           ...           ...          ...    ...      ...   \n",
              "9995           238           239             1          8.0    3.5      0.5   \n",
              "9996           239           166             2          8.0    3.5      0.5   \n",
              "9997           166           152             2          5.0    1.0      0.5   \n",
              "9998           151            42             1         10.0    1.0      0.5   \n",
              "9999           237            68             1         19.0    3.5      0.5   \n",
              "\n",
              "      tip_amount  tolls_amount  improvement_surcharge  total_amount  \\\n",
              "0           7.98          6.12                    0.3         47.90   \n",
              "1           0.00          0.00                    0.3         12.30   \n",
              "2           2.00          0.00                    0.3         15.80   \n",
              "3           4.32          0.00                    0.3         21.62   \n",
              "4           0.50          0.00                    0.3         15.30   \n",
              "...          ...           ...                    ...           ...   \n",
              "9995        2.46          0.00                    0.3         14.76   \n",
              "9996        0.00          0.00                    0.3         12.30   \n",
              "9997        0.00          0.00                    0.3          6.80   \n",
              "9998        0.00          0.00                    0.3         11.80   \n",
              "9999        2.50          0.00                    0.3         25.80   \n",
              "\n",
              "      congestion_surcharge  \n",
              "0                      2.5  \n",
              "1                      0.0  \n",
              "2                      2.5  \n",
              "3                      2.5  \n",
              "4                      2.5  \n",
              "...                    ...  \n",
              "9995                   2.5  \n",
              "9996                   2.5  \n",
              "9997                   0.0  \n",
              "9998                   0.0  \n",
              "9999                   2.5  \n",
              "\n",
              "[10000 rows x 18 columns]"
            ],
            "text/html": [
              "\n",
              "  <div id=\"df-aa7b0d26-61d2-474d-abae-e39e327a99c8\" class=\"colab-df-container\">\n",
              "    <div>\n",
              "<style scoped>\n",
              "    .dataframe tbody tr th:only-of-type {\n",
              "        vertical-align: middle;\n",
              "    }\n",
              "\n",
              "    .dataframe tbody tr th {\n",
              "        vertical-align: top;\n",
              "    }\n",
              "\n",
              "    .dataframe thead th {\n",
              "        text-align: right;\n",
              "    }\n",
              "</style>\n",
              "<table border=\"1\" class=\"dataframe\">\n",
              "  <thead>\n",
              "    <tr style=\"text-align: right;\">\n",
              "      <th></th>\n",
              "      <th>vendorid</th>\n",
              "      <th>tpep_pickup_datetime</th>\n",
              "      <th>tpep_dropoff_datetime</th>\n",
              "      <th>passenger_count</th>\n",
              "      <th>trip_distance</th>\n",
              "      <th>ratecodeid</th>\n",
              "      <th>store_and_fwd_flag</th>\n",
              "      <th>pulocationid</th>\n",
              "      <th>dolocationid</th>\n",
              "      <th>payment_type</th>\n",
              "      <th>fare_amount</th>\n",
              "      <th>extra</th>\n",
              "      <th>mta_tax</th>\n",
              "      <th>tip_amount</th>\n",
              "      <th>tolls_amount</th>\n",
              "      <th>improvement_surcharge</th>\n",
              "      <th>total_amount</th>\n",
              "      <th>congestion_surcharge</th>\n",
              "    </tr>\n",
              "  </thead>\n",
              "  <tbody>\n",
              "    <tr>\n",
              "      <th>0</th>\n",
              "      <td>2</td>\n",
              "      <td>2019-10-23T16:39:42.000</td>\n",
              "      <td>2019-10-23T17:14:10.000</td>\n",
              "      <td>1</td>\n",
              "      <td>7.93</td>\n",
              "      <td>1</td>\n",
              "      <td>N</td>\n",
              "      <td>138</td>\n",
              "      <td>170</td>\n",
              "      <td>1</td>\n",
              "      <td>29.5</td>\n",
              "      <td>1.0</td>\n",
              "      <td>0.5</td>\n",
              "      <td>7.98</td>\n",
              "      <td>6.12</td>\n",
              "      <td>0.3</td>\n",
              "      <td>47.90</td>\n",
              "      <td>2.5</td>\n",
              "    </tr>\n",
              "    <tr>\n",
              "      <th>1</th>\n",
              "      <td>1</td>\n",
              "      <td>2019-10-23T16:32:08.000</td>\n",
              "      <td>2019-10-23T16:45:26.000</td>\n",
              "      <td>1</td>\n",
              "      <td>2.00</td>\n",
              "      <td>1</td>\n",
              "      <td>N</td>\n",
              "      <td>11</td>\n",
              "      <td>26</td>\n",
              "      <td>1</td>\n",
              "      <td>10.5</td>\n",
              "      <td>1.0</td>\n",
              "      <td>0.5</td>\n",
              "      <td>0.00</td>\n",
              "      <td>0.00</td>\n",
              "      <td>0.3</td>\n",
              "      <td>12.30</td>\n",
              "      <td>0.0</td>\n",
              "    </tr>\n",
              "    <tr>\n",
              "      <th>2</th>\n",
              "      <td>2</td>\n",
              "      <td>2019-10-23T16:08:44.000</td>\n",
              "      <td>2019-10-23T16:21:11.000</td>\n",
              "      <td>1</td>\n",
              "      <td>1.36</td>\n",
              "      <td>1</td>\n",
              "      <td>N</td>\n",
              "      <td>163</td>\n",
              "      <td>162</td>\n",
              "      <td>1</td>\n",
              "      <td>9.5</td>\n",
              "      <td>1.0</td>\n",
              "      <td>0.5</td>\n",
              "      <td>2.00</td>\n",
              "      <td>0.00</td>\n",
              "      <td>0.3</td>\n",
              "      <td>15.80</td>\n",
              "      <td>2.5</td>\n",
              "    </tr>\n",
              "    <tr>\n",
              "      <th>3</th>\n",
              "      <td>2</td>\n",
              "      <td>2019-10-23T16:22:44.000</td>\n",
              "      <td>2019-10-23T16:43:26.000</td>\n",
              "      <td>1</td>\n",
              "      <td>1.00</td>\n",
              "      <td>1</td>\n",
              "      <td>N</td>\n",
              "      <td>170</td>\n",
              "      <td>163</td>\n",
              "      <td>1</td>\n",
              "      <td>13.0</td>\n",
              "      <td>1.0</td>\n",
              "      <td>0.5</td>\n",
              "      <td>4.32</td>\n",
              "      <td>0.00</td>\n",
              "      <td>0.3</td>\n",
              "      <td>21.62</td>\n",
              "      <td>2.5</td>\n",
              "    </tr>\n",
              "    <tr>\n",
              "      <th>4</th>\n",
              "      <td>2</td>\n",
              "      <td>2019-10-23T16:45:11.000</td>\n",
              "      <td>2019-10-23T16:58:49.000</td>\n",
              "      <td>1</td>\n",
              "      <td>1.96</td>\n",
              "      <td>1</td>\n",
              "      <td>N</td>\n",
              "      <td>163</td>\n",
              "      <td>236</td>\n",
              "      <td>1</td>\n",
              "      <td>10.5</td>\n",
              "      <td>1.0</td>\n",
              "      <td>0.5</td>\n",
              "      <td>0.50</td>\n",
              "      <td>0.00</td>\n",
              "      <td>0.3</td>\n",
              "      <td>15.30</td>\n",
              "      <td>2.5</td>\n",
              "    </tr>\n",
              "    <tr>\n",
              "      <th>...</th>\n",
              "      <td>...</td>\n",
              "      <td>...</td>\n",
              "      <td>...</td>\n",
              "      <td>...</td>\n",
              "      <td>...</td>\n",
              "      <td>...</td>\n",
              "      <td>...</td>\n",
              "      <td>...</td>\n",
              "      <td>...</td>\n",
              "      <td>...</td>\n",
              "      <td>...</td>\n",
              "      <td>...</td>\n",
              "      <td>...</td>\n",
              "      <td>...</td>\n",
              "      <td>...</td>\n",
              "      <td>...</td>\n",
              "      <td>...</td>\n",
              "      <td>...</td>\n",
              "    </tr>\n",
              "    <tr>\n",
              "      <th>9995</th>\n",
              "      <td>1</td>\n",
              "      <td>2019-10-23T17:39:59.000</td>\n",
              "      <td>2019-10-23T17:49:26.000</td>\n",
              "      <td>2</td>\n",
              "      <td>1.30</td>\n",
              "      <td>1</td>\n",
              "      <td>N</td>\n",
              "      <td>238</td>\n",
              "      <td>239</td>\n",
              "      <td>1</td>\n",
              "      <td>8.0</td>\n",
              "      <td>3.5</td>\n",
              "      <td>0.5</td>\n",
              "      <td>2.46</td>\n",
              "      <td>0.00</td>\n",
              "      <td>0.3</td>\n",
              "      <td>14.76</td>\n",
              "      <td>2.5</td>\n",
              "    </tr>\n",
              "    <tr>\n",
              "      <th>9996</th>\n",
              "      <td>1</td>\n",
              "      <td>2019-10-23T17:53:02.000</td>\n",
              "      <td>2019-10-23T18:00:45.000</td>\n",
              "      <td>1</td>\n",
              "      <td>1.40</td>\n",
              "      <td>1</td>\n",
              "      <td>N</td>\n",
              "      <td>239</td>\n",
              "      <td>166</td>\n",
              "      <td>2</td>\n",
              "      <td>8.0</td>\n",
              "      <td>3.5</td>\n",
              "      <td>0.5</td>\n",
              "      <td>0.00</td>\n",
              "      <td>0.00</td>\n",
              "      <td>0.3</td>\n",
              "      <td>12.30</td>\n",
              "      <td>2.5</td>\n",
              "    </tr>\n",
              "    <tr>\n",
              "      <th>9997</th>\n",
              "      <td>1</td>\n",
              "      <td>2019-10-23T17:07:16.000</td>\n",
              "      <td>2019-10-23T17:11:35.000</td>\n",
              "      <td>1</td>\n",
              "      <td>0.70</td>\n",
              "      <td>1</td>\n",
              "      <td>N</td>\n",
              "      <td>166</td>\n",
              "      <td>152</td>\n",
              "      <td>2</td>\n",
              "      <td>5.0</td>\n",
              "      <td>1.0</td>\n",
              "      <td>0.5</td>\n",
              "      <td>0.00</td>\n",
              "      <td>0.00</td>\n",
              "      <td>0.3</td>\n",
              "      <td>6.80</td>\n",
              "      <td>0.0</td>\n",
              "    </tr>\n",
              "    <tr>\n",
              "      <th>9998</th>\n",
              "      <td>1</td>\n",
              "      <td>2019-10-23T17:38:26.000</td>\n",
              "      <td>2019-10-23T17:49:28.000</td>\n",
              "      <td>2</td>\n",
              "      <td>2.50</td>\n",
              "      <td>1</td>\n",
              "      <td>N</td>\n",
              "      <td>151</td>\n",
              "      <td>42</td>\n",
              "      <td>1</td>\n",
              "      <td>10.0</td>\n",
              "      <td>1.0</td>\n",
              "      <td>0.5</td>\n",
              "      <td>0.00</td>\n",
              "      <td>0.00</td>\n",
              "      <td>0.3</td>\n",
              "      <td>11.80</td>\n",
              "      <td>0.0</td>\n",
              "    </tr>\n",
              "    <tr>\n",
              "      <th>9999</th>\n",
              "      <td>1</td>\n",
              "      <td>2019-10-23T17:22:14.000</td>\n",
              "      <td>2019-10-23T17:52:09.000</td>\n",
              "      <td>1</td>\n",
              "      <td>3.00</td>\n",
              "      <td>1</td>\n",
              "      <td>N</td>\n",
              "      <td>237</td>\n",
              "      <td>68</td>\n",
              "      <td>1</td>\n",
              "      <td>19.0</td>\n",
              "      <td>3.5</td>\n",
              "      <td>0.5</td>\n",
              "      <td>2.50</td>\n",
              "      <td>0.00</td>\n",
              "      <td>0.3</td>\n",
              "      <td>25.80</td>\n",
              "      <td>2.5</td>\n",
              "    </tr>\n",
              "  </tbody>\n",
              "</table>\n",
              "<p>10000 rows × 18 columns</p>\n",
              "</div>\n",
              "    <div class=\"colab-df-buttons\">\n",
              "\n",
              "  <div class=\"colab-df-container\">\n",
              "    <button class=\"colab-df-convert\" onclick=\"convertToInteractive('df-aa7b0d26-61d2-474d-abae-e39e327a99c8')\"\n",
              "            title=\"Convert this dataframe to an interactive table.\"\n",
              "            style=\"display:none;\">\n",
              "\n",
              "  <svg xmlns=\"http://www.w3.org/2000/svg\" height=\"24px\" viewBox=\"0 -960 960 960\">\n",
              "    <path d=\"M120-120v-720h720v720H120Zm60-500h600v-160H180v160Zm220 220h160v-160H400v160Zm0 220h160v-160H400v160ZM180-400h160v-160H180v160Zm440 0h160v-160H620v160ZM180-180h160v-160H180v160Zm440 0h160v-160H620v160Z\"/>\n",
              "  </svg>\n",
              "    </button>\n",
              "\n",
              "  <style>\n",
              "    .colab-df-container {\n",
              "      display:flex;\n",
              "      gap: 12px;\n",
              "    }\n",
              "\n",
              "    .colab-df-convert {\n",
              "      background-color: #E8F0FE;\n",
              "      border: none;\n",
              "      border-radius: 50%;\n",
              "      cursor: pointer;\n",
              "      display: none;\n",
              "      fill: #1967D2;\n",
              "      height: 32px;\n",
              "      padding: 0 0 0 0;\n",
              "      width: 32px;\n",
              "    }\n",
              "\n",
              "    .colab-df-convert:hover {\n",
              "      background-color: #E2EBFA;\n",
              "      box-shadow: 0px 1px 2px rgba(60, 64, 67, 0.3), 0px 1px 3px 1px rgba(60, 64, 67, 0.15);\n",
              "      fill: #174EA6;\n",
              "    }\n",
              "\n",
              "    .colab-df-buttons div {\n",
              "      margin-bottom: 4px;\n",
              "    }\n",
              "\n",
              "    [theme=dark] .colab-df-convert {\n",
              "      background-color: #3B4455;\n",
              "      fill: #D2E3FC;\n",
              "    }\n",
              "\n",
              "    [theme=dark] .colab-df-convert:hover {\n",
              "      background-color: #434B5C;\n",
              "      box-shadow: 0px 1px 3px 1px rgba(0, 0, 0, 0.15);\n",
              "      filter: drop-shadow(0px 1px 2px rgba(0, 0, 0, 0.3));\n",
              "      fill: #FFFFFF;\n",
              "    }\n",
              "  </style>\n",
              "\n",
              "    <script>\n",
              "      const buttonEl =\n",
              "        document.querySelector('#df-aa7b0d26-61d2-474d-abae-e39e327a99c8 button.colab-df-convert');\n",
              "      buttonEl.style.display =\n",
              "        google.colab.kernel.accessAllowed ? 'block' : 'none';\n",
              "\n",
              "      async function convertToInteractive(key) {\n",
              "        const element = document.querySelector('#df-aa7b0d26-61d2-474d-abae-e39e327a99c8');\n",
              "        const dataTable =\n",
              "          await google.colab.kernel.invokeFunction('convertToInteractive',\n",
              "                                                    [key], {});\n",
              "        if (!dataTable) return;\n",
              "\n",
              "        const docLinkHtml = 'Like what you see? Visit the ' +\n",
              "          '<a target=\"_blank\" href=https://colab.research.google.com/notebooks/data_table.ipynb>data table notebook</a>'\n",
              "          + ' to learn more about interactive tables.';\n",
              "        element.innerHTML = '';\n",
              "        dataTable['output_type'] = 'display_data';\n",
              "        await google.colab.output.renderOutput(dataTable, element);\n",
              "        const docLink = document.createElement('div');\n",
              "        docLink.innerHTML = docLinkHtml;\n",
              "        element.appendChild(docLink);\n",
              "      }\n",
              "    </script>\n",
              "  </div>\n",
              "\n",
              "\n",
              "<div id=\"df-4ae1a066-24e6-4d9c-8409-b1bdf6023ef7\">\n",
              "  <button class=\"colab-df-quickchart\" onclick=\"quickchart('df-4ae1a066-24e6-4d9c-8409-b1bdf6023ef7')\"\n",
              "            title=\"Suggest charts.\"\n",
              "            style=\"display:none;\">\n",
              "\n",
              "<svg xmlns=\"http://www.w3.org/2000/svg\" height=\"24px\"viewBox=\"0 0 24 24\"\n",
              "     width=\"24px\">\n",
              "    <g>\n",
              "        <path d=\"M19 3H5c-1.1 0-2 .9-2 2v14c0 1.1.9 2 2 2h14c1.1 0 2-.9 2-2V5c0-1.1-.9-2-2-2zM9 17H7v-7h2v7zm4 0h-2V7h2v10zm4 0h-2v-4h2v4z\"/>\n",
              "    </g>\n",
              "</svg>\n",
              "  </button>\n",
              "\n",
              "<style>\n",
              "  .colab-df-quickchart {\n",
              "      --bg-color: #E8F0FE;\n",
              "      --fill-color: #1967D2;\n",
              "      --hover-bg-color: #E2EBFA;\n",
              "      --hover-fill-color: #174EA6;\n",
              "      --disabled-fill-color: #AAA;\n",
              "      --disabled-bg-color: #DDD;\n",
              "  }\n",
              "\n",
              "  [theme=dark] .colab-df-quickchart {\n",
              "      --bg-color: #3B4455;\n",
              "      --fill-color: #D2E3FC;\n",
              "      --hover-bg-color: #434B5C;\n",
              "      --hover-fill-color: #FFFFFF;\n",
              "      --disabled-bg-color: #3B4455;\n",
              "      --disabled-fill-color: #666;\n",
              "  }\n",
              "\n",
              "  .colab-df-quickchart {\n",
              "    background-color: var(--bg-color);\n",
              "    border: none;\n",
              "    border-radius: 50%;\n",
              "    cursor: pointer;\n",
              "    display: none;\n",
              "    fill: var(--fill-color);\n",
              "    height: 32px;\n",
              "    padding: 0;\n",
              "    width: 32px;\n",
              "  }\n",
              "\n",
              "  .colab-df-quickchart:hover {\n",
              "    background-color: var(--hover-bg-color);\n",
              "    box-shadow: 0 1px 2px rgba(60, 64, 67, 0.3), 0 1px 3px 1px rgba(60, 64, 67, 0.15);\n",
              "    fill: var(--button-hover-fill-color);\n",
              "  }\n",
              "\n",
              "  .colab-df-quickchart-complete:disabled,\n",
              "  .colab-df-quickchart-complete:disabled:hover {\n",
              "    background-color: var(--disabled-bg-color);\n",
              "    fill: var(--disabled-fill-color);\n",
              "    box-shadow: none;\n",
              "  }\n",
              "\n",
              "  .colab-df-spinner {\n",
              "    border: 2px solid var(--fill-color);\n",
              "    border-color: transparent;\n",
              "    border-bottom-color: var(--fill-color);\n",
              "    animation:\n",
              "      spin 1s steps(1) infinite;\n",
              "  }\n",
              "\n",
              "  @keyframes spin {\n",
              "    0% {\n",
              "      border-color: transparent;\n",
              "      border-bottom-color: var(--fill-color);\n",
              "      border-left-color: var(--fill-color);\n",
              "    }\n",
              "    20% {\n",
              "      border-color: transparent;\n",
              "      border-left-color: var(--fill-color);\n",
              "      border-top-color: var(--fill-color);\n",
              "    }\n",
              "    30% {\n",
              "      border-color: transparent;\n",
              "      border-left-color: var(--fill-color);\n",
              "      border-top-color: var(--fill-color);\n",
              "      border-right-color: var(--fill-color);\n",
              "    }\n",
              "    40% {\n",
              "      border-color: transparent;\n",
              "      border-right-color: var(--fill-color);\n",
              "      border-top-color: var(--fill-color);\n",
              "    }\n",
              "    60% {\n",
              "      border-color: transparent;\n",
              "      border-right-color: var(--fill-color);\n",
              "    }\n",
              "    80% {\n",
              "      border-color: transparent;\n",
              "      border-right-color: var(--fill-color);\n",
              "      border-bottom-color: var(--fill-color);\n",
              "    }\n",
              "    90% {\n",
              "      border-color: transparent;\n",
              "      border-bottom-color: var(--fill-color);\n",
              "    }\n",
              "  }\n",
              "</style>\n",
              "\n",
              "  <script>\n",
              "    async function quickchart(key) {\n",
              "      const quickchartButtonEl =\n",
              "        document.querySelector('#' + key + ' button');\n",
              "      quickchartButtonEl.disabled = true;  // To prevent multiple clicks.\n",
              "      quickchartButtonEl.classList.add('colab-df-spinner');\n",
              "      try {\n",
              "        const charts = await google.colab.kernel.invokeFunction(\n",
              "            'suggestCharts', [key], {});\n",
              "      } catch (error) {\n",
              "        console.error('Error during call to suggestCharts:', error);\n",
              "      }\n",
              "      quickchartButtonEl.classList.remove('colab-df-spinner');\n",
              "      quickchartButtonEl.classList.add('colab-df-quickchart-complete');\n",
              "    }\n",
              "    (() => {\n",
              "      let quickchartButtonEl =\n",
              "        document.querySelector('#df-4ae1a066-24e6-4d9c-8409-b1bdf6023ef7 button');\n",
              "      quickchartButtonEl.style.display =\n",
              "        google.colab.kernel.accessAllowed ? 'block' : 'none';\n",
              "    })();\n",
              "  </script>\n",
              "</div>\n",
              "    </div>\n",
              "  </div>\n"
            ]
          },
          "metadata": {},
          "execution_count": 126
        }
      ],
      "source": [
        "taxis = pd.read_csv(\"./2019_Yellow_Taxi_Trip_Data.csv\")\n",
        "taxis"
      ]
    },
    {
      "cell_type": "markdown",
      "metadata": {
        "id": "CDtcSxQaQ2Ad"
      },
      "source": [
        "*Source: [NYC Open Data](https://data.cityofnewyork.us/Transportation/2019-Yellow-Taxi-Trip-Data/2upf-qytp) collected via [SODA](https://dev.socrata.com/foundry/data.cityofnewyork.us/2upf-qytp).*"
      ]
    },
    {
      "cell_type": "markdown",
      "metadata": {
        "id": "F-scHjDrQ2Ae"
      },
      "source": [
        "### Dropping columns\n",
        "Let's start by dropping the ID columns and the `store_and_fwd_flag` column, which we won't be using."
      ]
    },
    {
      "cell_type": "code",
      "execution_count": 127,
      "metadata": {
        "id": "ijbbeD7CQ2Ae",
        "outputId": "f2f775c5-c0c3-4fde-8238-055d8f44a8a0",
        "colab": {
          "base_uri": "https://localhost:8080/"
        }
      },
      "outputs": [
        {
          "output_type": "execute_result",
          "data": {
            "text/plain": [
              "Index(['vendorid', 'ratecodeid', 'store_and_fwd_flag', 'pulocationid',\n",
              "       'dolocationid'],\n",
              "      dtype='object')"
            ]
          },
          "metadata": {},
          "execution_count": 127
        }
      ],
      "source": [
        "mask = taxis.columns.str.contains('id$|store_and_fwd_flag',regex=True)\n",
        "columns_to_drop = taxis.columns[mask]\n",
        "columns_to_drop"
      ]
    },
    {
      "cell_type": "code",
      "execution_count": 128,
      "metadata": {
        "id": "eDZlRaCGQ2Ae",
        "outputId": "d1987014-e220-48c7-ae76-78d8206696b3",
        "colab": {
          "base_uri": "https://localhost:8080/",
          "height": 313
        }
      },
      "outputs": [
        {
          "output_type": "execute_result",
          "data": {
            "text/plain": [
              "      tpep_pickup_datetime    tpep_dropoff_datetime  passenger_count  \\\n",
              "0  2019-10-23T16:39:42.000  2019-10-23T17:14:10.000                1   \n",
              "1  2019-10-23T16:32:08.000  2019-10-23T16:45:26.000                1   \n",
              "2  2019-10-23T16:08:44.000  2019-10-23T16:21:11.000                1   \n",
              "3  2019-10-23T16:22:44.000  2019-10-23T16:43:26.000                1   \n",
              "4  2019-10-23T16:45:11.000  2019-10-23T16:58:49.000                1   \n",
              "\n",
              "   trip_distance  payment_type  fare_amount  extra  mta_tax  tip_amount  \\\n",
              "0           7.93             1         29.5    1.0      0.5        7.98   \n",
              "1           2.00             1         10.5    1.0      0.5        0.00   \n",
              "2           1.36             1          9.5    1.0      0.5        2.00   \n",
              "3           1.00             1         13.0    1.0      0.5        4.32   \n",
              "4           1.96             1         10.5    1.0      0.5        0.50   \n",
              "\n",
              "   tolls_amount  improvement_surcharge  total_amount  congestion_surcharge  \n",
              "0          6.12                    0.3         47.90                   2.5  \n",
              "1          0.00                    0.3         12.30                   0.0  \n",
              "2          0.00                    0.3         15.80                   2.5  \n",
              "3          0.00                    0.3         21.62                   2.5  \n",
              "4          0.00                    0.3         15.30                   2.5  "
            ],
            "text/html": [
              "\n",
              "  <div id=\"df-c3eff8f8-7551-4750-b19c-9afbe09c4c14\" class=\"colab-df-container\">\n",
              "    <div>\n",
              "<style scoped>\n",
              "    .dataframe tbody tr th:only-of-type {\n",
              "        vertical-align: middle;\n",
              "    }\n",
              "\n",
              "    .dataframe tbody tr th {\n",
              "        vertical-align: top;\n",
              "    }\n",
              "\n",
              "    .dataframe thead th {\n",
              "        text-align: right;\n",
              "    }\n",
              "</style>\n",
              "<table border=\"1\" class=\"dataframe\">\n",
              "  <thead>\n",
              "    <tr style=\"text-align: right;\">\n",
              "      <th></th>\n",
              "      <th>tpep_pickup_datetime</th>\n",
              "      <th>tpep_dropoff_datetime</th>\n",
              "      <th>passenger_count</th>\n",
              "      <th>trip_distance</th>\n",
              "      <th>payment_type</th>\n",
              "      <th>fare_amount</th>\n",
              "      <th>extra</th>\n",
              "      <th>mta_tax</th>\n",
              "      <th>tip_amount</th>\n",
              "      <th>tolls_amount</th>\n",
              "      <th>improvement_surcharge</th>\n",
              "      <th>total_amount</th>\n",
              "      <th>congestion_surcharge</th>\n",
              "    </tr>\n",
              "  </thead>\n",
              "  <tbody>\n",
              "    <tr>\n",
              "      <th>0</th>\n",
              "      <td>2019-10-23T16:39:42.000</td>\n",
              "      <td>2019-10-23T17:14:10.000</td>\n",
              "      <td>1</td>\n",
              "      <td>7.93</td>\n",
              "      <td>1</td>\n",
              "      <td>29.5</td>\n",
              "      <td>1.0</td>\n",
              "      <td>0.5</td>\n",
              "      <td>7.98</td>\n",
              "      <td>6.12</td>\n",
              "      <td>0.3</td>\n",
              "      <td>47.90</td>\n",
              "      <td>2.5</td>\n",
              "    </tr>\n",
              "    <tr>\n",
              "      <th>1</th>\n",
              "      <td>2019-10-23T16:32:08.000</td>\n",
              "      <td>2019-10-23T16:45:26.000</td>\n",
              "      <td>1</td>\n",
              "      <td>2.00</td>\n",
              "      <td>1</td>\n",
              "      <td>10.5</td>\n",
              "      <td>1.0</td>\n",
              "      <td>0.5</td>\n",
              "      <td>0.00</td>\n",
              "      <td>0.00</td>\n",
              "      <td>0.3</td>\n",
              "      <td>12.30</td>\n",
              "      <td>0.0</td>\n",
              "    </tr>\n",
              "    <tr>\n",
              "      <th>2</th>\n",
              "      <td>2019-10-23T16:08:44.000</td>\n",
              "      <td>2019-10-23T16:21:11.000</td>\n",
              "      <td>1</td>\n",
              "      <td>1.36</td>\n",
              "      <td>1</td>\n",
              "      <td>9.5</td>\n",
              "      <td>1.0</td>\n",
              "      <td>0.5</td>\n",
              "      <td>2.00</td>\n",
              "      <td>0.00</td>\n",
              "      <td>0.3</td>\n",
              "      <td>15.80</td>\n",
              "      <td>2.5</td>\n",
              "    </tr>\n",
              "    <tr>\n",
              "      <th>3</th>\n",
              "      <td>2019-10-23T16:22:44.000</td>\n",
              "      <td>2019-10-23T16:43:26.000</td>\n",
              "      <td>1</td>\n",
              "      <td>1.00</td>\n",
              "      <td>1</td>\n",
              "      <td>13.0</td>\n",
              "      <td>1.0</td>\n",
              "      <td>0.5</td>\n",
              "      <td>4.32</td>\n",
              "      <td>0.00</td>\n",
              "      <td>0.3</td>\n",
              "      <td>21.62</td>\n",
              "      <td>2.5</td>\n",
              "    </tr>\n",
              "    <tr>\n",
              "      <th>4</th>\n",
              "      <td>2019-10-23T16:45:11.000</td>\n",
              "      <td>2019-10-23T16:58:49.000</td>\n",
              "      <td>1</td>\n",
              "      <td>1.96</td>\n",
              "      <td>1</td>\n",
              "      <td>10.5</td>\n",
              "      <td>1.0</td>\n",
              "      <td>0.5</td>\n",
              "      <td>0.50</td>\n",
              "      <td>0.00</td>\n",
              "      <td>0.3</td>\n",
              "      <td>15.30</td>\n",
              "      <td>2.5</td>\n",
              "    </tr>\n",
              "  </tbody>\n",
              "</table>\n",
              "</div>\n",
              "    <div class=\"colab-df-buttons\">\n",
              "\n",
              "  <div class=\"colab-df-container\">\n",
              "    <button class=\"colab-df-convert\" onclick=\"convertToInteractive('df-c3eff8f8-7551-4750-b19c-9afbe09c4c14')\"\n",
              "            title=\"Convert this dataframe to an interactive table.\"\n",
              "            style=\"display:none;\">\n",
              "\n",
              "  <svg xmlns=\"http://www.w3.org/2000/svg\" height=\"24px\" viewBox=\"0 -960 960 960\">\n",
              "    <path d=\"M120-120v-720h720v720H120Zm60-500h600v-160H180v160Zm220 220h160v-160H400v160Zm0 220h160v-160H400v160ZM180-400h160v-160H180v160Zm440 0h160v-160H620v160ZM180-180h160v-160H180v160Zm440 0h160v-160H620v160Z\"/>\n",
              "  </svg>\n",
              "    </button>\n",
              "\n",
              "  <style>\n",
              "    .colab-df-container {\n",
              "      display:flex;\n",
              "      gap: 12px;\n",
              "    }\n",
              "\n",
              "    .colab-df-convert {\n",
              "      background-color: #E8F0FE;\n",
              "      border: none;\n",
              "      border-radius: 50%;\n",
              "      cursor: pointer;\n",
              "      display: none;\n",
              "      fill: #1967D2;\n",
              "      height: 32px;\n",
              "      padding: 0 0 0 0;\n",
              "      width: 32px;\n",
              "    }\n",
              "\n",
              "    .colab-df-convert:hover {\n",
              "      background-color: #E2EBFA;\n",
              "      box-shadow: 0px 1px 2px rgba(60, 64, 67, 0.3), 0px 1px 3px 1px rgba(60, 64, 67, 0.15);\n",
              "      fill: #174EA6;\n",
              "    }\n",
              "\n",
              "    .colab-df-buttons div {\n",
              "      margin-bottom: 4px;\n",
              "    }\n",
              "\n",
              "    [theme=dark] .colab-df-convert {\n",
              "      background-color: #3B4455;\n",
              "      fill: #D2E3FC;\n",
              "    }\n",
              "\n",
              "    [theme=dark] .colab-df-convert:hover {\n",
              "      background-color: #434B5C;\n",
              "      box-shadow: 0px 1px 3px 1px rgba(0, 0, 0, 0.15);\n",
              "      filter: drop-shadow(0px 1px 2px rgba(0, 0, 0, 0.3));\n",
              "      fill: #FFFFFF;\n",
              "    }\n",
              "  </style>\n",
              "\n",
              "    <script>\n",
              "      const buttonEl =\n",
              "        document.querySelector('#df-c3eff8f8-7551-4750-b19c-9afbe09c4c14 button.colab-df-convert');\n",
              "      buttonEl.style.display =\n",
              "        google.colab.kernel.accessAllowed ? 'block' : 'none';\n",
              "\n",
              "      async function convertToInteractive(key) {\n",
              "        const element = document.querySelector('#df-c3eff8f8-7551-4750-b19c-9afbe09c4c14');\n",
              "        const dataTable =\n",
              "          await google.colab.kernel.invokeFunction('convertToInteractive',\n",
              "                                                    [key], {});\n",
              "        if (!dataTable) return;\n",
              "\n",
              "        const docLinkHtml = 'Like what you see? Visit the ' +\n",
              "          '<a target=\"_blank\" href=https://colab.research.google.com/notebooks/data_table.ipynb>data table notebook</a>'\n",
              "          + ' to learn more about interactive tables.';\n",
              "        element.innerHTML = '';\n",
              "        dataTable['output_type'] = 'display_data';\n",
              "        await google.colab.output.renderOutput(dataTable, element);\n",
              "        const docLink = document.createElement('div');\n",
              "        docLink.innerHTML = docLinkHtml;\n",
              "        element.appendChild(docLink);\n",
              "      }\n",
              "    </script>\n",
              "  </div>\n",
              "\n",
              "\n",
              "<div id=\"df-92e54c5b-cef7-4fa0-bac5-4444d4afd59e\">\n",
              "  <button class=\"colab-df-quickchart\" onclick=\"quickchart('df-92e54c5b-cef7-4fa0-bac5-4444d4afd59e')\"\n",
              "            title=\"Suggest charts.\"\n",
              "            style=\"display:none;\">\n",
              "\n",
              "<svg xmlns=\"http://www.w3.org/2000/svg\" height=\"24px\"viewBox=\"0 0 24 24\"\n",
              "     width=\"24px\">\n",
              "    <g>\n",
              "        <path d=\"M19 3H5c-1.1 0-2 .9-2 2v14c0 1.1.9 2 2 2h14c1.1 0 2-.9 2-2V5c0-1.1-.9-2-2-2zM9 17H7v-7h2v7zm4 0h-2V7h2v10zm4 0h-2v-4h2v4z\"/>\n",
              "    </g>\n",
              "</svg>\n",
              "  </button>\n",
              "\n",
              "<style>\n",
              "  .colab-df-quickchart {\n",
              "      --bg-color: #E8F0FE;\n",
              "      --fill-color: #1967D2;\n",
              "      --hover-bg-color: #E2EBFA;\n",
              "      --hover-fill-color: #174EA6;\n",
              "      --disabled-fill-color: #AAA;\n",
              "      --disabled-bg-color: #DDD;\n",
              "  }\n",
              "\n",
              "  [theme=dark] .colab-df-quickchart {\n",
              "      --bg-color: #3B4455;\n",
              "      --fill-color: #D2E3FC;\n",
              "      --hover-bg-color: #434B5C;\n",
              "      --hover-fill-color: #FFFFFF;\n",
              "      --disabled-bg-color: #3B4455;\n",
              "      --disabled-fill-color: #666;\n",
              "  }\n",
              "\n",
              "  .colab-df-quickchart {\n",
              "    background-color: var(--bg-color);\n",
              "    border: none;\n",
              "    border-radius: 50%;\n",
              "    cursor: pointer;\n",
              "    display: none;\n",
              "    fill: var(--fill-color);\n",
              "    height: 32px;\n",
              "    padding: 0;\n",
              "    width: 32px;\n",
              "  }\n",
              "\n",
              "  .colab-df-quickchart:hover {\n",
              "    background-color: var(--hover-bg-color);\n",
              "    box-shadow: 0 1px 2px rgba(60, 64, 67, 0.3), 0 1px 3px 1px rgba(60, 64, 67, 0.15);\n",
              "    fill: var(--button-hover-fill-color);\n",
              "  }\n",
              "\n",
              "  .colab-df-quickchart-complete:disabled,\n",
              "  .colab-df-quickchart-complete:disabled:hover {\n",
              "    background-color: var(--disabled-bg-color);\n",
              "    fill: var(--disabled-fill-color);\n",
              "    box-shadow: none;\n",
              "  }\n",
              "\n",
              "  .colab-df-spinner {\n",
              "    border: 2px solid var(--fill-color);\n",
              "    border-color: transparent;\n",
              "    border-bottom-color: var(--fill-color);\n",
              "    animation:\n",
              "      spin 1s steps(1) infinite;\n",
              "  }\n",
              "\n",
              "  @keyframes spin {\n",
              "    0% {\n",
              "      border-color: transparent;\n",
              "      border-bottom-color: var(--fill-color);\n",
              "      border-left-color: var(--fill-color);\n",
              "    }\n",
              "    20% {\n",
              "      border-color: transparent;\n",
              "      border-left-color: var(--fill-color);\n",
              "      border-top-color: var(--fill-color);\n",
              "    }\n",
              "    30% {\n",
              "      border-color: transparent;\n",
              "      border-left-color: var(--fill-color);\n",
              "      border-top-color: var(--fill-color);\n",
              "      border-right-color: var(--fill-color);\n",
              "    }\n",
              "    40% {\n",
              "      border-color: transparent;\n",
              "      border-right-color: var(--fill-color);\n",
              "      border-top-color: var(--fill-color);\n",
              "    }\n",
              "    60% {\n",
              "      border-color: transparent;\n",
              "      border-right-color: var(--fill-color);\n",
              "    }\n",
              "    80% {\n",
              "      border-color: transparent;\n",
              "      border-right-color: var(--fill-color);\n",
              "      border-bottom-color: var(--fill-color);\n",
              "    }\n",
              "    90% {\n",
              "      border-color: transparent;\n",
              "      border-bottom-color: var(--fill-color);\n",
              "    }\n",
              "  }\n",
              "</style>\n",
              "\n",
              "  <script>\n",
              "    async function quickchart(key) {\n",
              "      const quickchartButtonEl =\n",
              "        document.querySelector('#' + key + ' button');\n",
              "      quickchartButtonEl.disabled = true;  // To prevent multiple clicks.\n",
              "      quickchartButtonEl.classList.add('colab-df-spinner');\n",
              "      try {\n",
              "        const charts = await google.colab.kernel.invokeFunction(\n",
              "            'suggestCharts', [key], {});\n",
              "      } catch (error) {\n",
              "        console.error('Error during call to suggestCharts:', error);\n",
              "      }\n",
              "      quickchartButtonEl.classList.remove('colab-df-spinner');\n",
              "      quickchartButtonEl.classList.add('colab-df-quickchart-complete');\n",
              "    }\n",
              "    (() => {\n",
              "      let quickchartButtonEl =\n",
              "        document.querySelector('#df-92e54c5b-cef7-4fa0-bac5-4444d4afd59e button');\n",
              "      quickchartButtonEl.style.display =\n",
              "        google.colab.kernel.accessAllowed ? 'block' : 'none';\n",
              "    })();\n",
              "  </script>\n",
              "</div>\n",
              "    </div>\n",
              "  </div>\n"
            ]
          },
          "metadata": {},
          "execution_count": 128
        }
      ],
      "source": [
        "taxis = taxis.drop(columns=columns_to_drop)\n",
        "taxis.head()"
      ]
    },
    {
      "cell_type": "markdown",
      "metadata": {
        "id": "rOM-l62gQ2Ae"
      },
      "source": [
        "*Tip: Another way to do this is to select the columns we want to keep: `taxis.loc[:,~mask]`.*"
      ]
    },
    {
      "cell_type": "markdown",
      "metadata": {
        "id": "gtN3wEYZQ2Ae"
      },
      "source": [
        "### Renaming columns\n",
        "\n",
        "Next, let's rename the datetime columns:"
      ]
    },
    {
      "cell_type": "code",
      "execution_count": 129,
      "metadata": {
        "id": "vJMmGcM3Q2Ae"
      },
      "outputs": [],
      "source": []
    },
    {
      "cell_type": "markdown",
      "metadata": {
        "id": "YI5y0x9IQ2Ae"
      },
      "source": [
        "### Type conversion\n",
        "\n",
        "Notice anything off with the data types?"
      ]
    },
    {
      "cell_type": "code",
      "execution_count": 130,
      "metadata": {
        "id": "vQybRKuRQ2Ae"
      },
      "outputs": [],
      "source": [
        "# types"
      ]
    },
    {
      "cell_type": "markdown",
      "metadata": {
        "id": "3eguls_tQ2Ae"
      },
      "source": [
        "Both `pickup` and `dropoff` should be stored as datetimes. Let's fix this:"
      ]
    },
    {
      "cell_type": "code",
      "execution_count": 131,
      "metadata": {
        "id": "9SxJH4juQ2Ae"
      },
      "outputs": [],
      "source": [
        "# convert"
      ]
    },
    {
      "cell_type": "markdown",
      "metadata": {
        "id": "qY98S2s1Q2Ae"
      },
      "source": [
        "*Tip: There are other ways to perform type conversion. For numeric values, we can use the `pd.to_numeric()` function, and we will see the `astype()` method, which is a more generic method, a little later.*"
      ]
    },
    {
      "cell_type": "markdown",
      "metadata": {
        "id": "xRglIwwEQ2Af"
      },
      "source": [
        "### Creating new columns\n",
        "\n",
        "Let's calculate the following for each row:\n",
        "\n",
        "1. elapsed time of the trip\n",
        "2. the tip percentage\n",
        "3. the total taxes, tolls, fees, and surcharges\n",
        "4. the average speed of the taxi"
      ]
    },
    {
      "cell_type": "code",
      "execution_count": 132,
      "metadata": {
        "id": "uTnMfCSLQ2Af"
      },
      "outputs": [],
      "source": [
        "# using 'assign'"
      ]
    },
    {
      "cell_type": "markdown",
      "metadata": {
        "id": "H_fvBVuUQ2Af"
      },
      "source": [
        "*Tip: New to `lambda` functions? These small, anonymous functions can receive multiple arguments, but can only contain one expression (the return value). You will see these a lot in pandas code. Read more about them [here](https://realpython.com/python-lambda/).*"
      ]
    },
    {
      "cell_type": "markdown",
      "metadata": {
        "id": "pkPqhin_Q2Af"
      },
      "source": [
        "Our new columns get added to the right:"
      ]
    },
    {
      "cell_type": "code",
      "execution_count": 133,
      "metadata": {
        "id": "heE0fM3JQ2Af"
      },
      "outputs": [],
      "source": [
        "# inspect"
      ]
    },
    {
      "cell_type": "markdown",
      "metadata": {
        "id": "Ols4viqxQ2Af"
      },
      "source": [
        "Some things to note:\n",
        "- We used `lambda` functions to 1) avoid typing `taxis` repeatedly and 2) be able to access the `cost_before_tip` and `elapsed_time` columns in the same method that we create them.\n",
        "- To create a single new column, we can also use `df['new_col'] = <values>`."
      ]
    },
    {
      "cell_type": "markdown",
      "metadata": {
        "id": "rkU88TcyQ2Af"
      },
      "source": [
        "### Sorting by values\n",
        "\n",
        "We can use the `sort_values()` method to sort based on any number of columns:"
      ]
    },
    {
      "cell_type": "code",
      "execution_count": 134,
      "metadata": {
        "id": "wG7b4YidQ2Af"
      },
      "outputs": [],
      "source": [
        "# sort values"
      ]
    },
    {
      "cell_type": "markdown",
      "metadata": {
        "id": "3kfLZ1FwQ2Af"
      },
      "source": [
        "To pick out the largest/smallest rows, use `nlargest()` / `nsmallest()` instead. Looking at the 3 trips with the longest elapsed time, we see some possible data integrity issues:"
      ]
    },
    {
      "cell_type": "code",
      "execution_count": 135,
      "metadata": {
        "id": "k3He1_HCQ2Af"
      },
      "outputs": [],
      "source": [
        "# using nlargest"
      ]
    },
    {
      "cell_type": "markdown",
      "metadata": {
        "id": "gl6ZvTOyQ2Af"
      },
      "source": [
        "### Stop here!\n",
        "\n",
        "Complete [Exercise 2.1](./week1-lab2-intro-to-pandas.ipynb#Exercise-2.1)"
      ]
    },
    {
      "cell_type": "markdown",
      "metadata": {
        "id": "FA1uA5y0Q2Ag"
      },
      "source": [
        "## Working with the index\n",
        "\n",
        "So far, we haven't really worked with the index because it's just been a row number; however, we can change the values we have in the index to access additional features of the pandas library."
      ]
    },
    {
      "cell_type": "markdown",
      "metadata": {
        "id": "lLOsZ4_XQ2Ag"
      },
      "source": [
        "### Setting and sorting the index\n",
        "\n",
        "Currently, we have a RangeIndex, but we can switch to a DatetimeIndex by specifying a datetime column when calling `set_index()`:"
      ]
    },
    {
      "cell_type": "code",
      "execution_count": 136,
      "metadata": {
        "id": "JGDxtHB7Q2Ag"
      },
      "outputs": [],
      "source": [
        "# Set index to datetime"
      ]
    },
    {
      "cell_type": "markdown",
      "metadata": {
        "id": "SPmJ0HlCQ2Ag"
      },
      "source": [
        "Since we have a sample of the full dataset, let's sort the index to order by pickup time:"
      ]
    },
    {
      "cell_type": "code",
      "execution_count": 137,
      "metadata": {
        "id": "OOS6OAqZQ2Ag"
      },
      "outputs": [],
      "source": [
        "# Sort by index"
      ]
    },
    {
      "cell_type": "markdown",
      "metadata": {
        "id": "5PyXHyj6Q2Ag"
      },
      "source": [
        "*Tip: `taxis.sort_index(axis=1)` will sort the columns by name. The `axis` parameter is present throughout the pandas library: `axis=0` targets rows and `axis=1` targets columns.*"
      ]
    },
    {
      "cell_type": "markdown",
      "metadata": {
        "id": "N3wkawd4Q2Ag"
      },
      "source": [
        "We can now select ranges from our data based on the datetime the same way we did with row numbers:"
      ]
    },
    {
      "cell_type": "code",
      "execution_count": 138,
      "metadata": {
        "id": "r-5tkATmQ2Ag"
      },
      "outputs": [],
      "source": [
        "# range by date"
      ]
    },
    {
      "cell_type": "markdown",
      "metadata": {
        "id": "eAYpRumyQ2Ag"
      },
      "source": [
        "When not specifying a range, we use `loc[]`:"
      ]
    },
    {
      "cell_type": "code",
      "execution_count": 139,
      "metadata": {
        "id": "MUMv0IfWQ2Ag"
      },
      "outputs": [],
      "source": [
        "# using loc"
      ]
    },
    {
      "cell_type": "markdown",
      "metadata": {
        "id": "dnVH3uskQ2Ag"
      },
      "source": [
        "### Resetting the index\n",
        "\n",
        "We will be working with time series later this section, but sometimes we want to reset our index to row numbers and restore the columns. We can make `pickup` a column again with the `reset_index()` method:"
      ]
    },
    {
      "cell_type": "code",
      "execution_count": 140,
      "metadata": {
        "id": "ZWdjzwXeQ2Ag"
      },
      "outputs": [],
      "source": [
        "#reset index"
      ]
    },
    {
      "cell_type": "markdown",
      "metadata": {
        "id": "vNE9rMepQ2Ag"
      },
      "source": [
        "### Stop here!\n",
        "\n",
        "Complete [Exercise 2.2](./week1-lab2-intro-to-pandas.ipynb#Exercise-2.2)"
      ]
    },
    {
      "cell_type": "markdown",
      "metadata": {
        "id": "xwasfxMzQ2Ah"
      },
      "source": [
        "## Reshaping data\n",
        "\n",
        "The taxi dataset we have be working with is in a format conducive to an analysis. This isn't always the case. Let's now take a look at the TSA traveler throughput data, which compares 2021 throughput to the same day in 2020 and 2019:"
      ]
    },
    {
      "cell_type": "code",
      "execution_count": 141,
      "metadata": {
        "id": "fumrszEjQ2Ah"
      },
      "outputs": [],
      "source": [
        "# read '../data/tsa_passenger_throughput.csv'"
      ]
    },
    {
      "cell_type": "markdown",
      "metadata": {
        "id": "-NiPPeQJQ2Ah"
      },
      "source": [
        "*Source: [TSA.gov](https://www.tsa.gov/coronavirus/passenger-throughput)*"
      ]
    },
    {
      "cell_type": "markdown",
      "metadata": {
        "id": "VIAo2M1cQ2Ah"
      },
      "source": [
        "First, we will lowercase the column names and take the first word (e.g., `2021` for `2021 Traveler Throughput`) to make this easier to work with:"
      ]
    },
    {
      "cell_type": "code",
      "execution_count": 141,
      "metadata": {
        "id": "Q6k1N5JSQ2Ah"
      },
      "outputs": [],
      "source": []
    },
    {
      "cell_type": "markdown",
      "metadata": {
        "id": "0dlSSlMGQ2Ah"
      },
      "source": [
        "Now, we can work on reshaping it."
      ]
    },
    {
      "cell_type": "markdown",
      "metadata": {
        "id": "4cnQJ0dnQ2Ah"
      },
      "source": [
        "### Melting\n",
        "\n",
        "Melting helps convert our data into long format. Now, we have all the traveler throughput numbers in a single column:"
      ]
    },
    {
      "cell_type": "code",
      "execution_count": 142,
      "metadata": {
        "id": "SvFCYvLGQ2Ah"
      },
      "outputs": [],
      "source": [
        "# melt data"
      ]
    },
    {
      "cell_type": "markdown",
      "metadata": {
        "id": "Prx_JewhQ2Ah"
      },
      "source": [
        "To convert this into a time series of traveler throughput, we need to replace the year in the `date` column with the one in the `year` column. Otherwise, we are marking prior years' numbers with the wrong year."
      ]
    },
    {
      "cell_type": "code",
      "execution_count": 143,
      "metadata": {
        "id": "T36mYbgZQ2Ah"
      },
      "outputs": [],
      "source": [
        "# fix year"
      ]
    },
    {
      "cell_type": "markdown",
      "metadata": {
        "id": "c-qaexQBQ2Ah"
      },
      "source": [
        "This leaves us with some null values (the dates that aren't present in the dataset):"
      ]
    },
    {
      "cell_type": "code",
      "execution_count": 143,
      "metadata": {
        "id": "Sj2rBpfMQ2Ah"
      },
      "outputs": [],
      "source": []
    },
    {
      "cell_type": "markdown",
      "metadata": {
        "id": "O_MFRhWrQ2Ah"
      },
      "source": [
        "These can be dropped with the `dropna()` method:"
      ]
    },
    {
      "cell_type": "code",
      "execution_count": 144,
      "metadata": {
        "id": "oWgSqYrkQ2Ah"
      },
      "outputs": [],
      "source": [
        "# dropna"
      ]
    },
    {
      "cell_type": "markdown",
      "metadata": {
        "id": "UgQc-5czQ2Ai"
      },
      "source": [
        "### Pivoting\n",
        "\n",
        "Using the melted data, we can pivot the data to compare TSA traveler throughput on specific days across years:"
      ]
    },
    {
      "cell_type": "code",
      "execution_count": 144,
      "metadata": {
        "id": "QDh1Y5yUQ2Ai"
      },
      "outputs": [],
      "source": []
    },
    {
      "cell_type": "markdown",
      "metadata": {
        "id": "oTrwXfj0Q2Ai"
      },
      "source": [
        "**Important**: We aren't covering the `unstack()` and `stack()` methods, which are additional ways to pivot and melt, respectively. These come in handy when we have a multi-level index (e.g., if we ran `set_index()` with more than one column). More information can be found [here](https://pandas.pydata.org/pandas-docs/stable/user_guide/reshaping.html)."
      ]
    },
    {
      "cell_type": "markdown",
      "metadata": {
        "id": "0RHNs4azQ2Ai"
      },
      "source": [
        "### Transposing\n",
        "\n",
        "The `T` attribute provides a quick way to flip rows and columns."
      ]
    },
    {
      "cell_type": "code",
      "execution_count": 144,
      "metadata": {
        "id": "QS_ZuYWNQ2Ai"
      },
      "outputs": [],
      "source": []
    },
    {
      "cell_type": "markdown",
      "metadata": {
        "id": "Z4OqpyPUQ2Ai"
      },
      "source": [
        "### Merging\n",
        "\n",
        "We typically observe changes in air travel around the holidays, so adding information about the dates in the TSA dataset provides more context. The `holidays.csv` file contains a few major holidays in the United States:"
      ]
    },
    {
      "cell_type": "code",
      "execution_count": 145,
      "metadata": {
        "id": "m3X_rbwDQ2Ai"
      },
      "outputs": [],
      "source": [
        "# Read holidays data '../data/holidays.csv'"
      ]
    },
    {
      "cell_type": "markdown",
      "metadata": {
        "id": "OmroY0jlQ2Ai"
      },
      "source": [
        "Merging the holidays with the TSA traveler throughput data will provide more context for our analysis:"
      ]
    },
    {
      "cell_type": "code",
      "execution_count": 146,
      "metadata": {
        "id": "zq313v6UQ2Ai"
      },
      "outputs": [],
      "source": [
        "# merge with tsa_melted"
      ]
    },
    {
      "cell_type": "markdown",
      "metadata": {
        "id": "KwQz_MxOQ2Ai"
      },
      "source": [
        "*Tip: There are many parameters for this method, so be sure to check out the [documentation](https://pandas.pydata.org/pandas-docs/stable/reference/api/pandas.DataFrame.merge.html). To append rows, take a look at the `pd.concat()` function.*"
      ]
    },
    {
      "cell_type": "markdown",
      "metadata": {
        "id": "IPtWMmQMQ2Ai"
      },
      "source": [
        "We can take this a step further by marking a few days before and after each holiday as part of the holiday. This would make it easier to compare holiday travel across years and look for any uptick in travel around the holidays:"
      ]
    },
    {
      "cell_type": "code",
      "execution_count": 146,
      "metadata": {
        "id": "XDH3ibCCQ2Ai"
      },
      "outputs": [],
      "source": []
    },
    {
      "cell_type": "markdown",
      "metadata": {
        "id": "Hk1nZ2ONQ2Ai"
      },
      "source": [
        "*Tip: Check out the [documentation](https://pandas.pydata.org/pandas-docs/stable/reference/api/pandas.DataFrame.fillna.html) for the full list of functionality available with the `fillna()` method.*"
      ]
    },
    {
      "cell_type": "markdown",
      "metadata": {
        "id": "mmdv7BslQ2Aj"
      },
      "source": [
        "Notice that we now have values for the day after each holiday and the two days prior. Thanksgiving in 2019 was on November 28th, so the 26th, 27th, and 29th were filled. Since we are only replacing null values, we don't override Christmas Day with the forward fill of Christmas Eve:"
      ]
    },
    {
      "cell_type": "code",
      "execution_count": 147,
      "metadata": {
        "id": "jC3jjzVAQ2Aj"
      },
      "outputs": [],
      "source": [
        "# inspection"
      ]
    },
    {
      "cell_type": "markdown",
      "metadata": {
        "id": "i_OYQPCZQ2Aj"
      },
      "source": [
        "## Aggregations and grouping\n",
        "\n",
        "After reshaping and cleaning our data, we can perform aggregations to summarize it in a variety of ways. In this section, we will explore using pivot tables, crosstabs, and group by operations to aggregate the data."
      ]
    },
    {
      "cell_type": "markdown",
      "metadata": {
        "id": "F7JZ7DXAQ2Aj"
      },
      "source": [
        "### Pivot tables\n",
        "We can build a pivot table to compare holiday travel across the years in our dataset:"
      ]
    },
    {
      "cell_type": "code",
      "execution_count": 148,
      "metadata": {
        "id": "r_3QOWC_Q2Aj"
      },
      "outputs": [],
      "source": [
        "# pivot"
      ]
    },
    {
      "cell_type": "markdown",
      "metadata": {
        "id": "prMspGNEQ2Aj"
      },
      "source": [
        "We can use the `pct_change()` method on this result to see which holiday travel periods saw the biggest change in travel:"
      ]
    },
    {
      "cell_type": "code",
      "execution_count": 149,
      "metadata": {
        "id": "ed-NgHikQ2Aj"
      },
      "outputs": [],
      "source": [
        "# pct_change"
      ]
    },
    {
      "cell_type": "markdown",
      "metadata": {
        "id": "lhvp1dSPQ2Aj"
      },
      "source": [
        "Let's make one last pivot table with column and row subtotals, along with some formatting improvements. First, we set a display option for all floats:"
      ]
    },
    {
      "cell_type": "code",
      "execution_count": 150,
      "metadata": {
        "id": "dq_Ne0aQQ2Aj"
      },
      "outputs": [],
      "source": [
        "# set display options"
      ]
    },
    {
      "cell_type": "markdown",
      "metadata": {
        "id": "Z0mN5R78Q2Aj"
      },
      "source": [
        "Next, we group together Christmas Eve and Christmas Day, likewise for New Year's Eve and New Year's Day, and create the pivot table:"
      ]
    },
    {
      "cell_type": "code",
      "execution_count": 151,
      "metadata": {
        "id": "2dauRs-hQ2Aj"
      },
      "outputs": [],
      "source": [
        "#pivot table"
      ]
    },
    {
      "cell_type": "markdown",
      "metadata": {
        "id": "uxIPoWc3Q2Aj"
      },
      "source": [
        "Before moving on, let's reset the display option:"
      ]
    },
    {
      "cell_type": "code",
      "execution_count": 152,
      "metadata": {
        "id": "irhHgelEQ2Aj"
      },
      "outputs": [],
      "source": [
        "# reset display options"
      ]
    },
    {
      "cell_type": "markdown",
      "metadata": {
        "id": "zIpOLo6DQ2Ak"
      },
      "source": [
        "*Tip: Read more about options in the documentation [here](https://pandas.pydata.org/pandas-docs/stable/user_guide/options.html).*"
      ]
    },
    {
      "cell_type": "markdown",
      "metadata": {
        "id": "S8ogDHL4Q2Ak"
      },
      "source": [
        "### Stop here!\n",
        "\n",
        "Complete [Exercise 2.3](./week1-lab2-intro-to-pandas.ipynb#Exercise-2.3)"
      ]
    },
    {
      "cell_type": "markdown",
      "metadata": {
        "id": "ea2984PKQ2Ak"
      },
      "source": [
        "### Crosstabs\n",
        "The `pd.crosstab()` function provides an easy way to create a frequency table. Here, we count the number of low-, medium-, and high-volume travel days per year, using the `pd.cut()` function to create three travel volume bins of equal width:"
      ]
    },
    {
      "cell_type": "code",
      "execution_count": 153,
      "metadata": {
        "id": "Mi_1gMDdQ2Ak"
      },
      "outputs": [],
      "source": [
        "#crosstab"
      ]
    },
    {
      "cell_type": "markdown",
      "metadata": {
        "id": "aWSe84V6Q2Ak"
      },
      "source": [
        "*Tip: The `pd.cut()` function can also be used to specify custom bin ranges. For equal-sized bins based on quantiles, use the `pd.qcut()` function instead.*"
      ]
    },
    {
      "cell_type": "markdown",
      "metadata": {
        "id": "vx3HW8NNQ2Ak"
      },
      "source": [
        "Note that the `pd.crosstab()` function supports other aggregations provided you pass in the data to aggregate as `values` and specify the aggregation with `aggfunc`. You can also add subtotals and normalize the data. See the [documentation](https://pandas.pydata.org/pandas-docs/stable/reference/api/pandas.crosstab.html) for more information."
      ]
    },
    {
      "cell_type": "markdown",
      "metadata": {
        "id": "DyspTIxzQ2Ak"
      },
      "source": [
        "### Group by operations\n",
        "Rather than perform aggregations, like `mean()` or `describe()`, on the full dataset at once, we can perform these calculations per group by first calling `groupby()`:"
      ]
    },
    {
      "cell_type": "code",
      "execution_count": 154,
      "metadata": {
        "id": "z9qGPZ3yQ2Ak"
      },
      "outputs": [],
      "source": [
        "#groupby"
      ]
    },
    {
      "cell_type": "markdown",
      "metadata": {
        "id": "ORuJy4A1Q2Ak"
      },
      "source": [
        "Groups can also be used to perform separate calculations per subset of the data. For example, we can find the highest-volume travel day per year using `rank()`:"
      ]
    },
    {
      "cell_type": "code",
      "execution_count": 155,
      "metadata": {
        "id": "NnBSw0LBQ2Ak"
      },
      "outputs": [],
      "source": [
        "#rank by subset"
      ]
    },
    {
      "cell_type": "markdown",
      "metadata": {
        "id": "_ils4lLRQ2Ak"
      },
      "source": [
        "The previous two examples called a single method on the grouped data, but using the `agg()` method we can specify any number of them:"
      ]
    },
    {
      "cell_type": "code",
      "execution_count": 156,
      "metadata": {
        "id": "hlCs3Nr1Q2Ak"
      },
      "outputs": [],
      "source": [
        "#agg"
      ]
    },
    {
      "cell_type": "markdown",
      "metadata": {
        "id": "wqdznBP0Q2Ak"
      },
      "source": [
        "*Tip: The `select_dtypes()` method makes it possible to select columns by their data type. We can specify the data types to `exclude` and/or `include`.*"
      ]
    },
    {
      "cell_type": "markdown",
      "metadata": {
        "id": "dE1gUGo6Q2Ak"
      },
      "source": [
        "In addition, we can specify which aggregations to perform on each column:"
      ]
    },
    {
      "cell_type": "code",
      "execution_count": 157,
      "metadata": {
        "id": "sW7eYE41Q2Al"
      },
      "outputs": [],
      "source": [
        "# complex aggregations"
      ]
    },
    {
      "cell_type": "markdown",
      "metadata": {
        "id": "yTPjU9vyQ2Al"
      },
      "source": [
        "We are only scratching the surface; some additional functionalities to be aware of include the following:\n",
        "- We can group by multiple columns &ndash; this creates a hierarchical index.\n",
        "- Groups can be excluded from calculations with the `filter()` method.\n",
        "- We can group on content in the index using the `level` or `name` parameters e.g., `groupby(level=0)` or `groupby(name='year')`.\n",
        "- We can group by date ranges if we use a `pd.Grouper()` object."
      ]
    },
    {
      "cell_type": "markdown",
      "metadata": {
        "id": "77-SngpcQ2Al"
      },
      "source": [
        "Be sure to check out the [documentation](https://pandas.pydata.org/pandas-docs/stable/reference/api/pandas.DataFrame.groupby.html) for more details."
      ]
    },
    {
      "cell_type": "markdown",
      "metadata": {
        "id": "xQ9cwwnzQ2Al"
      },
      "source": [
        "### Stop here\n",
        "\n",
        "Complete [Exercise 2.4](./week1-lab2-intro-to-pandas.ipynb#Exercise-2.4)"
      ]
    },
    {
      "cell_type": "markdown",
      "metadata": {
        "id": "RCdhI-EnQ2Al"
      },
      "source": [
        "## Time series\n",
        "\n",
        "When working with time series data, pandas provides us with additional functionality to not just compare the observations in our dataset, but to use their relationship in time to analyze the data. In this section, we will see a few such operations for selecting date/time ranges, calculating changes over time, performing window calculations, and resampling the data to different date/time intervals."
      ]
    },
    {
      "cell_type": "markdown",
      "metadata": {
        "id": "YRnh9nIuQ2Al"
      },
      "source": [
        "### Selecting based on date and time\n",
        "\n",
        "Let's switch back to the `taxis` dataset, which has timestamps of pickups and dropoffs. First, we will set the `dropoff` column as the index and sort the data:"
      ]
    },
    {
      "cell_type": "code",
      "execution_count": 157,
      "metadata": {
        "id": "Y_sKmOq7Q2Al"
      },
      "outputs": [],
      "source": []
    },
    {
      "cell_type": "markdown",
      "metadata": {
        "id": "1RYvTi-ZQ2Al"
      },
      "source": [
        "We saw earlier that we can slice on the datetimes:"
      ]
    },
    {
      "cell_type": "code",
      "execution_count": 157,
      "metadata": {
        "id": "3n5Z8uTrQ2Al"
      },
      "outputs": [],
      "source": []
    },
    {
      "cell_type": "markdown",
      "metadata": {
        "id": "ofXQUHLVQ2Al"
      },
      "source": [
        "We can also represent this range with shorthand. Note that we must use `loc[]` here:"
      ]
    },
    {
      "cell_type": "code",
      "execution_count": 157,
      "metadata": {
        "id": "KkNN083SQ2Al"
      },
      "outputs": [],
      "source": []
    },
    {
      "cell_type": "markdown",
      "metadata": {
        "id": "fGft0bYUQ2Al"
      },
      "source": [
        "However, if we want to look at this time range across days, we need another strategy."
      ]
    },
    {
      "cell_type": "markdown",
      "metadata": {
        "id": "KsPNqQEAQ2Al"
      },
      "source": [
        "We can pull out the dropoffs that happened between a certain time range on *any* day with the `between_time()` method:"
      ]
    },
    {
      "cell_type": "code",
      "execution_count": 157,
      "metadata": {
        "id": "wgj7FqqUQ2Al"
      },
      "outputs": [],
      "source": []
    },
    {
      "cell_type": "markdown",
      "metadata": {
        "id": "g0cupI_CQ2Am"
      },
      "source": [
        "*Tip: The `at_time()` method can be used to extract all entries at a given time (e.g., 12:35:27).*"
      ]
    },
    {
      "cell_type": "markdown",
      "metadata": {
        "id": "uaQFxmkkQ2Am"
      },
      "source": [
        "Finally, `head()` and `tail()` limit us to a number of rows, but we may be interested in rows within the first/last 2 hours (or any other time interval) of the data, in which case, we should use `first()` / `last()`:"
      ]
    },
    {
      "cell_type": "code",
      "execution_count": 157,
      "metadata": {
        "id": "lNUYF56wQ2Am"
      },
      "outputs": [],
      "source": []
    },
    {
      "cell_type": "markdown",
      "metadata": {
        "id": "2SKPSkbVQ2Am"
      },
      "source": [
        "*Tip: Available date/time offsets can be found in the pandas documentation [here](https://pandas.pydata.org/pandas-docs/stable/user_guide/timeseries.html#dateoffset-objects).*"
      ]
    },
    {
      "cell_type": "markdown",
      "metadata": {
        "id": "HMxACiO2Q2Am"
      },
      "source": [
        "For the rest of this section, we will be working with the TSA traveler throughput data. Let's start by setting the index to the `date` column:"
      ]
    },
    {
      "cell_type": "code",
      "execution_count": 157,
      "metadata": {
        "id": "Uv2WHewYQ2Am"
      },
      "outputs": [],
      "source": []
    },
    {
      "cell_type": "markdown",
      "metadata": {
        "id": "sGWk1ZVmQ2Am"
      },
      "source": [
        "### Calculating change over time"
      ]
    },
    {
      "cell_type": "code",
      "execution_count": 158,
      "metadata": {
        "id": "L31bmqL4Q2Am"
      },
      "outputs": [],
      "source": [
        "# using diff"
      ]
    },
    {
      "cell_type": "markdown",
      "metadata": {
        "id": "TAYR36kdQ2Am"
      },
      "source": [
        "*Tip: To perform operations other than subtraction, take a look at the `shift()` method. It also makes it possible to perform operations across columns.*"
      ]
    },
    {
      "cell_type": "markdown",
      "metadata": {
        "id": "-DMB1vApQ2Am"
      },
      "source": [
        "### Resampling\n",
        "We can use resampling to aggregate time series data to a new frequency:"
      ]
    },
    {
      "cell_type": "code",
      "execution_count": 159,
      "metadata": {
        "id": "KCtWKGfOQ2Am"
      },
      "outputs": [],
      "source": [
        "# resample"
      ]
    },
    {
      "cell_type": "markdown",
      "metadata": {
        "id": "oKaIU0mOQ2Am"
      },
      "source": [
        "### Window calculations\n",
        "\n",
        "Window calculations are similar to group by calculations except the group over which the calculation is performed isn't static &ndash; it can move or expand. Pandas provides functionality for constructing a variety of windows, including moving/rolling windows, expanding windows (e.g., cumulative sum or mean up to the current date in a time series), and exponentially weighted moving windows (to weight closer observations more than further ones). We will only look at rolling and expanding calculations here."
      ]
    },
    {
      "cell_type": "markdown",
      "metadata": {
        "id": "D0ALlfjxQ2An"
      },
      "source": [
        "Performing a window calculation is very similar to a group by calculation &ndash; we first define the window, and then we specify the aggregation:"
      ]
    },
    {
      "cell_type": "code",
      "execution_count": 160,
      "metadata": {
        "id": "w4wJbPj-Q2An"
      },
      "outputs": [],
      "source": [
        "# rolling windows"
      ]
    },
    {
      "cell_type": "markdown",
      "metadata": {
        "id": "cqy2ncEdQ2An"
      },
      "source": [
        "To understand what's happening, it's best to visualize the original data and the result, so here's a sneak peek of plotting with pandas. First, some setup to embed SVG plots in the notebook:"
      ]
    },
    {
      "cell_type": "code",
      "execution_count": 161,
      "metadata": {
        "id": "Sn0n7d3_Q2An",
        "outputId": "cf60b8d0-eeed-43e8-ce91-26aca6f08ae7",
        "colab": {
          "base_uri": "https://localhost:8080/",
          "height": 384
        }
      },
      "outputs": [
        {
          "output_type": "error",
          "ename": "ModuleNotFoundError",
          "evalue": "ignored",
          "traceback": [
            "\u001b[0;31m---------------------------------------------------------------------------\u001b[0m",
            "\u001b[0;31mModuleNotFoundError\u001b[0m                       Traceback (most recent call last)",
            "\u001b[0;32m<ipython-input-161-a215add99d01>\u001b[0m in \u001b[0;36m<cell line: 2>\u001b[0;34m()\u001b[0m\n\u001b[1;32m      1\u001b[0m \u001b[0;32mimport\u001b[0m \u001b[0mmatplotlib_inline\u001b[0m\u001b[0;34m\u001b[0m\u001b[0;34m\u001b[0m\u001b[0m\n\u001b[0;32m----> 2\u001b[0;31m \u001b[0;32mfrom\u001b[0m \u001b[0mutils\u001b[0m \u001b[0;32mimport\u001b[0m \u001b[0mmpl_svg_config\u001b[0m\u001b[0;34m\u001b[0m\u001b[0;34m\u001b[0m\u001b[0m\n\u001b[0m\u001b[1;32m      3\u001b[0m \u001b[0;34m\u001b[0m\u001b[0m\n\u001b[1;32m      4\u001b[0m matplotlib_inline.backend_inline.set_matplotlib_formats(\n\u001b[1;32m      5\u001b[0m     \u001b[0;34m'svg'\u001b[0m \u001b[0;31m# output images using SVG format\u001b[0m\u001b[0;34m\u001b[0m\u001b[0;34m\u001b[0m\u001b[0m\n",
            "\u001b[0;31mModuleNotFoundError\u001b[0m: No module named 'utils'",
            "",
            "\u001b[0;31m---------------------------------------------------------------------------\u001b[0;32m\nNOTE: If your import is failing due to a missing package, you can\nmanually install dependencies using either !pip or !apt.\n\nTo view examples of installing some common dependencies, click the\n\"Open Examples\" button below.\n\u001b[0;31m---------------------------------------------------------------------------\u001b[0m\n"
          ],
          "errorDetails": {
            "actions": [
              {
                "action": "open_url",
                "actionText": "Open Examples",
                "url": "/notebooks/snippets/importing_libraries.ipynb"
              }
            ]
          }
        }
      ],
      "source": [
        "import matplotlib_inline\n",
        "from utils import mpl_svg_config\n",
        "\n",
        "matplotlib_inline.backend_inline.set_matplotlib_formats(\n",
        "    'svg' # output images using SVG format\n",
        ")"
      ]
    },
    {
      "cell_type": "markdown",
      "metadata": {
        "id": "fCMPtwQMQ2An"
      },
      "source": [
        "Now, we call the `plot()` method to visualize the data:"
      ]
    },
    {
      "cell_type": "code",
      "execution_count": null,
      "metadata": {
        "id": "nFy3_TE9Q2An"
      },
      "outputs": [],
      "source": []
    },
    {
      "cell_type": "markdown",
      "metadata": {
        "id": "q6zjQ_8LQ2An"
      },
      "source": [
        "Other types of windows:\n",
        "- [exponentially weighted moving](https://pandas.pydata.org/pandas-docs/stable/reference/api/pandas.DataFrame.ewm.html): use the `ewm()` method\n",
        "- [custom](https://pandas.pydata.org/docs/user_guide/window.html#window-custom-rolling-window): create a subclass of `pandas.api.indexers.BaseIndexer` or use a pre-built one in `pandas.api.indexers`"
      ]
    },
    {
      "cell_type": "markdown",
      "metadata": {
        "id": "cwfbxJTQQ2An"
      },
      "source": [
        "### Stop here\n",
        "\n",
        "Complete [Exercise 2.5](./week1-lab2-intro-to-pandas.ipynb#Exercise-2.5)"
      ]
    },
    {
      "cell_type": "markdown",
      "metadata": {
        "id": "SKNPFt5VQ2An"
      },
      "source": [
        "# Section 3: Data Visualization\n",
        "\n",
        "The human brain excels at finding patterns in visual representations of the data; so in this section, we will learn how to visualize data using pandas along with the Matplotlib and Seaborn libraries for additional features. We will create a variety of visualizations that will help us better understand our data."
      ]
    },
    {
      "cell_type": "markdown",
      "metadata": {
        "id": "t_yFRsOBQ2An"
      },
      "source": [
        "## Why is data visualization necessary?\n",
        "\n",
        "So far, we have focused a lot on summarizing the data using statistics. However, summary statistics are not enough to understand the distribution &ndash; there are many possible distributions for a given set of summary statistics. Data visualization is necessary to truly understand the distribution:\n",
        "\n",
        "<div style=\"text-align: center; margin-top: -10px;\">\n",
        "<img width=\"50%\" src=\"https://raw.githubusercontent.com/stefmolin/data-morph/main/docs/_static/panda-to-star-eased.gif\" alt=\"Data Morph: panda to star\" style=\"min-width: 300px; margin-bottom: -10px;\"/>\n",
        "<div style=\"margin: auto; margin-top: 10px\"><small><em>A set of points forming a panda can also form a star without any significant changes to the summary statistics displayed above. (source: <a href=\"https://github.com/stefmolin/data-morph\">Data Morph</a>)</em></small></div>\n",
        "</div>"
      ]
    },
    {
      "cell_type": "markdown",
      "metadata": {
        "id": "31i1TQDSQ2An"
      },
      "source": [
        "## Plotting with pandas\n",
        "\n",
        "We can create a variety of visualizations using the `plot()` method. In this section, we will take a brief tour of some of this functionality, which under the hood uses Matplotlib."
      ]
    },
    {
      "cell_type": "markdown",
      "metadata": {
        "id": "7GaSp-v8Q2Ao"
      },
      "source": [
        "Once again, we will be working with the TSA traveler throughput data that we cleaned up in the previous section:"
      ]
    },
    {
      "cell_type": "code",
      "execution_count": null,
      "metadata": {
        "id": "g4TTAF2GQ2Ao"
      },
      "outputs": [],
      "source": [
        "# read data '../data/tsa_melted_holiday_travel.csv'"
      ]
    },
    {
      "cell_type": "markdown",
      "metadata": {
        "id": "5gqppsZAQ2Ao"
      },
      "source": [
        "To embed SVG-format plots in the notebook, we will configure the Matplotlib plotting backend to generate SVG output"
      ]
    },
    {
      "cell_type": "code",
      "execution_count": null,
      "metadata": {
        "id": "SESIYd1lQ2Ao"
      },
      "outputs": [],
      "source": []
    },
    {
      "cell_type": "markdown",
      "metadata": {
        "id": "3RsOCDXxQ2Ao"
      },
      "source": [
        "### Line plots\n",
        "\n",
        "The `plot()` method will generate line plots for all numeric columns by default:"
      ]
    },
    {
      "cell_type": "code",
      "execution_count": null,
      "metadata": {
        "id": "PMWEhZVfQ2Ao"
      },
      "outputs": [],
      "source": [
        "#plot command"
      ]
    },
    {
      "cell_type": "markdown",
      "metadata": {
        "id": "75CICdUCQ2Ao"
      },
      "source": [
        "The `plot()` method returns an `Axes` object that can be modified further (e.g., to add reference lines, annotations, labels, etc.). Let's walk through an example."
      ]
    },
    {
      "cell_type": "markdown",
      "metadata": {
        "id": "6IIxlkz2Q2Ao"
      },
      "source": [
        "### Bar plots\n",
        "\n",
        "For our next example, we will plot vertical bars to compare monthly TSA traveler throughput across years. Let's start by creating a pivot table with the information we need:"
      ]
    },
    {
      "cell_type": "code",
      "execution_count": null,
      "metadata": {
        "id": "6EVIYkW2Q2Ao"
      },
      "outputs": [],
      "source": []
    },
    {
      "cell_type": "markdown",
      "metadata": {
        "id": "KR9pGfFHQ2Ao"
      },
      "source": [
        "Pandas offers other plot types via the `kind` parameter, so we specify `kind='bar'` when calling the `plot()` method. Then, we further format the visualization using the `Axes` object returned by the `plot()` method:"
      ]
    },
    {
      "cell_type": "code",
      "execution_count": null,
      "metadata": {
        "id": "gP61TFwYQ2Ao"
      },
      "outputs": [],
      "source": [
        "#bar plot"
      ]
    },
    {
      "cell_type": "markdown",
      "metadata": {
        "id": "tQwoF7OCQ2Ao"
      },
      "source": [
        "Some additional things to keep in mind:\n",
        "- Matplotlib's `ticker` module provides functionality for customizing both the tick labels and locations &ndash; check out the [documentation](https://matplotlib.org/stable/api/ticker_api.html) for more information.\n",
        "- Pandas supports horizontal and stacked bars as well; [this](https://medium.com/@stefaniemolin/how-to-pivot-and-plot-data-with-pandas-9450939fcf8) blog post shows how to make stacked horizontal bars using a pivot table.\n",
        "- The `plot()` method takes a lot of [parameters](https://pandas.pydata.org/pandas-docs/stable/reference/api/pandas.DataFrame.plot.html), many of which get passed down to Matplotlib; however, sometimes we need to use Matplotlib calls directly."
      ]
    },
    {
      "cell_type": "markdown",
      "metadata": {
        "id": "MLl8DoD_Q2Ao"
      },
      "source": [
        "### Plotting distributions\n",
        "\n",
        "Let's now compare the distribution of daily TSA traveler throughput across years. We will create a subplot for each year with both a histogram and a kernel density estimate (KDE) of the distribution.  Pandas has generated the `Figure` and `Axes` objects for both examples so far, but we can build custom layouts by creating them ourselves with Matplotlib using the `plt.subplots()` function. First, we will need to import the `pyplot` module:"
      ]
    },
    {
      "cell_type": "code",
      "execution_count": null,
      "metadata": {
        "id": "fffeaDG0Q2Ap"
      },
      "outputs": [],
      "source": [
        "# import pyplot"
      ]
    },
    {
      "cell_type": "markdown",
      "metadata": {
        "id": "c3UoplbXQ2Ap"
      },
      "source": [
        "While pandas lets us specify that we want subplots and their layout (with the `subplots` and `layout` parameters, respectively), using Matplotlib to create the subplots directly gives us additional flexibility:"
      ]
    },
    {
      "cell_type": "code",
      "execution_count": null,
      "metadata": {
        "id": "Dq-lpe8ZQ2Ap"
      },
      "outputs": [],
      "source": [
        "# multiple histograms, tight layout"
      ]
    },
    {
      "cell_type": "markdown",
      "metadata": {
        "id": "EsY2ge_lQ2Ap"
      },
      "source": [
        "*Tip: If you're new to the `zip()` function, check out [this](https://realpython.com/python-zip-function/) article.*"
      ]
    },
    {
      "cell_type": "markdown",
      "metadata": {
        "id": "T19fFJqCQ2Ap"
      },
      "source": [
        "### Stop here\n",
        "\n",
        "Complete [Exercise 3.1](./week1-lab2-intro-to-pandas.ipynb#Exercise-3.1)"
      ]
    },
    {
      "cell_type": "markdown",
      "metadata": {
        "id": "LyL5xQMiQ2Ap"
      },
      "source": [
        "## Plotting with Seaborn\n",
        "\n",
        "The Seaborn library provides the means to easily visualize long-format data without first pivoting it. In addition, it also offers some additional plot types &ndash; once again building on top of Mtplotlib. Here, we will look at a few examples of visualizations we can create with Seaborn."
      ]
    },
    {
      "cell_type": "markdown",
      "metadata": {
        "id": "y3BF9EniQ2Ap"
      },
      "source": [
        "### Visualizing long-format data\n",
        "\n",
        "With Seaborn, we can specify plot colors according to values of a column with the `hue` parameter. When working with functions that generate subplots, we can also specify how to split the subplots by values of a long-format column with the `col` and `row` parameters. Here, we revisit the comparison of the distribution of TSA traveler throughput across years:"
      ]
    },
    {
      "cell_type": "code",
      "execution_count": null,
      "metadata": {
        "id": "pHr-d7MiQ2Ap"
      },
      "outputs": [],
      "source": [
        "#using seaborn"
      ]
    },
    {
      "cell_type": "markdown",
      "metadata": {
        "id": "XTaTt45jQ2Ap"
      },
      "source": [
        "### Heatmaps\n",
        "We can also use Seaborn to visualize pivot tables as heatmaps:"
      ]
    },
    {
      "cell_type": "code",
      "execution_count": null,
      "metadata": {
        "id": "46WtgnQNQ2Ap"
      },
      "outputs": [],
      "source": [
        "#pivot data"
      ]
    },
    {
      "cell_type": "code",
      "execution_count": null,
      "metadata": {
        "id": "FLiiwce_Q2Ap"
      },
      "outputs": [],
      "source": [
        "# heatmap"
      ]
    },
    {
      "cell_type": "markdown",
      "metadata": {
        "id": "RCzAID2hQ2Ap"
      },
      "source": [
        "*Tip: Reference the Matplotlib documentation for more information on [colormaps](https://matplotlib.org/stable/tutorials/colors/colormaps.html) and [named colors](https://matplotlib.org/stable/gallery/color/named_colors.html).*"
      ]
    },
    {
      "cell_type": "markdown",
      "metadata": {
        "id": "yirYdBLqQ2Ap"
      },
      "source": [
        "We're moving on from Seaborn now, but there is a lot more available in the [API](https://seaborn.pydata.org/api.html). Be sure to check out the following at a minimum:\n",
        "- [pairwise plots](https://seaborn.pydata.org/generated/seaborn.pairplot.html#seaborn.pairplot) with `pairplot()`\n",
        "- [categorical scatter plots](https://seaborn.pydata.org/generated/seaborn.swarmplot.html#seaborn.swarmplot) with `swarmplot()`\n",
        "- [joint distribution plots](https://seaborn.pydata.org/generated/seaborn.jointplot.html#seaborn.jointplot) with `jointplot()`\n",
        "- [FacetGrids](https://seaborn.pydata.org/generated/seaborn.FacetGrid.html#seaborn.FacetGrid) for custom layouts with any plot type"
      ]
    },
    {
      "cell_type": "markdown",
      "metadata": {
        "id": "l5nWVRIpQ2Aq"
      },
      "source": [
        "### Stop here!\n",
        "\n",
        "Complete [Exercise 3.2](./week1-lab2-intro-to-pandas.ipynb#Exercise-3.2)\n"
      ]
    },
    {
      "cell_type": "markdown",
      "metadata": {
        "id": "zXUJjDGdQ2Aq"
      },
      "source": [
        "## Customizing plots with Matplotlib\n",
        "\n",
        "In this final section, we will discuss how to use Matplotlib to customize plots. Since there is a lot of functionality available, we will only be covering how to add shaded regions and annotations here, but be sure to check out the [documentation](https://matplotlib.org/) for more."
      ]
    },
    {
      "cell_type": "markdown",
      "metadata": {
        "id": "ipvD3n3YQ2Aq"
      },
      "source": [
        "### Adding shaded regions\n",
        "\n",
        "When looking at a plot of TSA traveler throughput over time, it's helpful to indicate periods during which there was holiday travel. We can do so with the `axvspan()` method:"
      ]
    },
    {
      "cell_type": "code",
      "execution_count": null,
      "metadata": {
        "id": "JMYABWAhQ2Aq"
      },
      "outputs": [],
      "source": [
        "# time series with shaded regions"
      ]
    },
    {
      "cell_type": "markdown",
      "metadata": {
        "id": "xn0PJTKZQ2Aq"
      },
      "source": [
        "*Tip: Use `axhspan()` for horizontally shaded regions and `axvline()` / `axhline()` for vertical/horizontal reference lines.*"
      ]
    },
    {
      "cell_type": "markdown",
      "metadata": {
        "id": "RynIXgENQ2Aq"
      },
      "source": [
        "### Adding annotations\n",
        "\n",
        "We can use the `annotate()` method to add annotations to the plot. Here, we point out the day in 2019 with the highest TSA traveler throughput, which was the day after Thanksgiving:"
      ]
    },
    {
      "cell_type": "code",
      "execution_count": null,
      "metadata": {
        "id": "T_OzfXXiQ2Aq"
      },
      "outputs": [],
      "source": [
        "# add annotations"
      ]
    },
    {
      "cell_type": "markdown",
      "metadata": {
        "id": "y7p698qCQ2Aq"
      },
      "source": [
        "Some things to keep in mind:\n",
        "- We used `Axes` methods to customize our plots (i.e., an object-oriented approach), but the `pyplot` module provides equivalent functions (i.e., a functional approach) for adding shaded regions, reference lines, annotations, etc. &ndash; although the function names might be slightly different than their `Axes` method counterparts (e.g., `Axes.set_xlabel()` vs. `plt.xlabel()`).\n",
        "- In general, try to stick to either the object-oriented or functional approach rather than mixing the two. However, be careful when working with subplots &ndash; `pyplot` functions will only affect the last subplot.\n",
        "- The [anatomy of a figure](https://matplotlib.org/stable/gallery/showcase/anatomy.html) diagram in the Matplotlib documentation is a great resource for identifying which objects you will need to access for plot customizations."
      ]
    },
    {
      "cell_type": "markdown",
      "metadata": {
        "id": "HG242OZPQ2Aq"
      },
      "source": [
        "### Stop here!\n",
        "\n",
        "Complete [Exercise 3.3](./week1-lab2-intro-to-pandas.ipynb#Exercise-3.3)\n"
      ]
    },
    {
      "cell_type": "markdown",
      "metadata": {
        "id": "_zOpEKUiQ2Aq"
      },
      "source": []
    }
  ],
  "metadata": {
    "language_info": {
      "name": "python"
    },
    "orig_nbformat": 4,
    "colab": {
      "provenance": []
    },
    "kernelspec": {
      "name": "python3",
      "display_name": "Python 3"
    }
  },
  "nbformat": 4,
  "nbformat_minor": 0
}